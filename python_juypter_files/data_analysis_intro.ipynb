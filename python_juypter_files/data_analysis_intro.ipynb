{
 "cells": [
  {
   "cell_type": "markdown",
   "id": "288c8d3b",
   "metadata": {},
   "source": [
    "# Import Pandas"
   ]
  },
  {
   "cell_type": "code",
   "execution_count": 3,
   "id": "c6e4c2c2",
   "metadata": {},
   "outputs": [],
   "source": [
    "import pandas as pd"
   ]
  },
  {
   "cell_type": "markdown",
   "id": "46555d8b",
   "metadata": {},
   "source": [
    "# Importing Data"
   ]
  },
  {
   "cell_type": "code",
   "execution_count": 4,
   "id": "68d627d9",
   "metadata": {},
   "outputs": [],
   "source": [
    "names = ['Id', 'Title', 'Year', 'Rating', 'Votes', 'Length', 'Genres']\n",
    "data = pd.read_csv('imdb_top_10000.txt', sep=\"\\t\", names=names, index_col=0)"
   ]
  },
  {
   "cell_type": "markdown",
   "id": "2e7fb7cc",
   "metadata": {},
   "source": [
    "# Exploring our Data"
   ]
  },
  {
   "cell_type": "markdown",
   "id": "cec7e9bb",
   "metadata": {},
   "source": [
    "Now that we have some data loaded up, let's explore it with the pandas library. pandas provides some useful functions that you can use to get some information about your dataset or that you can use to filter the data. In this lesson let's look at the pandas functions data.head(), data.tail(), data.info(), and data.describe().\n",
    "\n",
    "If we just run data, it'll be the entire table, and it's way too long to actually read all Top 10,000 films on IMDB. But, we can manipulate our data and explore patterns in Jupyter Notebook.\n",
    "\n",
    "data.head() will us the first five results out of the entire set. You can also specify a number to only get back that particular number.\n",
    "\n",
    "data.tail() will, naturally enough, give you the last five results in the set.\n",
    "\n",
    "data.info() will tell you how many values you have in each other, and give you information about each column, and the types of each column - string, integer, float, object, etc.  \n",
    "\n",
    "data.describe() will give you information on all of the number columns - the mean, the standard deviation, etc.\n",
    "\n"
   ]
  },
  {
   "cell_type": "code",
   "execution_count": 5,
   "id": "5dab9bbc",
   "metadata": {},
   "outputs": [],
   "source": [
    "#dispay all data it takes time to load\n",
    "#pd.set_option('display.max_columns', None)  # or 1000\n",
    "#pd.set_option('display.max_rows', None)  # or 1000 # showing max rows \n",
    "# RRL = https://www.codegrepper.com/code-examples/python/show+all+rows+in+jupyter+notebook"
   ]
  },
  {
   "cell_type": "code",
   "execution_count": 6,
   "id": "b71402bc",
   "metadata": {},
   "outputs": [
    {
     "data": {
      "text/html": [
       "<div>\n",
       "<style scoped>\n",
       "    .dataframe tbody tr th:only-of-type {\n",
       "        vertical-align: middle;\n",
       "    }\n",
       "\n",
       "    .dataframe tbody tr th {\n",
       "        vertical-align: top;\n",
       "    }\n",
       "\n",
       "    .dataframe thead th {\n",
       "        text-align: right;\n",
       "    }\n",
       "</style>\n",
       "<table border=\"1\" class=\"dataframe\">\n",
       "  <thead>\n",
       "    <tr style=\"text-align: right;\">\n",
       "      <th></th>\n",
       "      <th>Title</th>\n",
       "      <th>Year</th>\n",
       "      <th>Rating</th>\n",
       "      <th>Votes</th>\n",
       "      <th>Length</th>\n",
       "      <th>Genres</th>\n",
       "    </tr>\n",
       "    <tr>\n",
       "      <th>Id</th>\n",
       "      <th></th>\n",
       "      <th></th>\n",
       "      <th></th>\n",
       "      <th></th>\n",
       "      <th></th>\n",
       "      <th></th>\n",
       "    </tr>\n",
       "  </thead>\n",
       "  <tbody>\n",
       "    <tr>\n",
       "      <th>tt0111161</th>\n",
       "      <td>The Shawshank Redemption (1994)</td>\n",
       "      <td>1994</td>\n",
       "      <td>9.2</td>\n",
       "      <td>619479</td>\n",
       "      <td>142 mins.</td>\n",
       "      <td>Crime|Drama</td>\n",
       "    </tr>\n",
       "    <tr>\n",
       "      <th>tt0110912</th>\n",
       "      <td>Pulp Fiction (1994)</td>\n",
       "      <td>1994</td>\n",
       "      <td>9.0</td>\n",
       "      <td>490065</td>\n",
       "      <td>154 mins.</td>\n",
       "      <td>Crime|Thriller</td>\n",
       "    </tr>\n",
       "    <tr>\n",
       "      <th>tt0137523</th>\n",
       "      <td>Fight Club (1999)</td>\n",
       "      <td>1999</td>\n",
       "      <td>8.8</td>\n",
       "      <td>458173</td>\n",
       "      <td>139 mins.</td>\n",
       "      <td>Drama|Mystery|Thriller</td>\n",
       "    </tr>\n",
       "    <tr>\n",
       "      <th>tt0133093</th>\n",
       "      <td>The Matrix (1999)</td>\n",
       "      <td>1999</td>\n",
       "      <td>8.7</td>\n",
       "      <td>448114</td>\n",
       "      <td>136 mins.</td>\n",
       "      <td>Action|Adventure|Sci-Fi</td>\n",
       "    </tr>\n",
       "    <tr>\n",
       "      <th>tt1375666</th>\n",
       "      <td>Inception (2010)</td>\n",
       "      <td>2010</td>\n",
       "      <td>8.9</td>\n",
       "      <td>385149</td>\n",
       "      <td>148 mins.</td>\n",
       "      <td>Action|Adventure|Sci-Fi|Thriller</td>\n",
       "    </tr>\n",
       "  </tbody>\n",
       "</table>\n",
       "</div>"
      ],
      "text/plain": [
       "                                     Title  Year  Rating   Votes     Length  \\\n",
       "Id                                                                            \n",
       "tt0111161  The Shawshank Redemption (1994)  1994     9.2  619479  142 mins.   \n",
       "tt0110912              Pulp Fiction (1994)  1994     9.0  490065  154 mins.   \n",
       "tt0137523                Fight Club (1999)  1999     8.8  458173  139 mins.   \n",
       "tt0133093                The Matrix (1999)  1999     8.7  448114  136 mins.   \n",
       "tt1375666                 Inception (2010)  2010     8.9  385149  148 mins.   \n",
       "\n",
       "                                     Genres  \n",
       "Id                                           \n",
       "tt0111161                       Crime|Drama  \n",
       "tt0110912                    Crime|Thriller  \n",
       "tt0137523            Drama|Mystery|Thriller  \n",
       "tt0133093           Action|Adventure|Sci-Fi  \n",
       "tt1375666  Action|Adventure|Sci-Fi|Thriller  "
      ]
     },
     "execution_count": 6,
     "metadata": {},
     "output_type": "execute_result"
    }
   ],
   "source": [
    "data.head()"
   ]
  },
  {
   "cell_type": "code",
   "execution_count": 30,
   "id": "239f26f4",
   "metadata": {},
   "outputs": [
    {
     "data": {
      "text/html": [
       "<div>\n",
       "<style scoped>\n",
       "    .dataframe tbody tr th:only-of-type {\n",
       "        vertical-align: middle;\n",
       "    }\n",
       "\n",
       "    .dataframe tbody tr th {\n",
       "        vertical-align: top;\n",
       "    }\n",
       "\n",
       "    .dataframe thead th {\n",
       "        text-align: right;\n",
       "    }\n",
       "</style>\n",
       "<table border=\"1\" class=\"dataframe\">\n",
       "  <thead>\n",
       "    <tr style=\"text-align: right;\">\n",
       "      <th></th>\n",
       "      <th>Title</th>\n",
       "      <th>Year</th>\n",
       "      <th>Rating</th>\n",
       "      <th>Votes</th>\n",
       "      <th>Length</th>\n",
       "      <th>Genres</th>\n",
       "    </tr>\n",
       "    <tr>\n",
       "      <th>Id</th>\n",
       "      <th></th>\n",
       "      <th></th>\n",
       "      <th></th>\n",
       "      <th></th>\n",
       "      <th></th>\n",
       "      <th></th>\n",
       "    </tr>\n",
       "  </thead>\n",
       "  <tbody>\n",
       "    <tr>\n",
       "      <th>tt0111161</th>\n",
       "      <td>The Shawshank Redemption (1994)</td>\n",
       "      <td>1994</td>\n",
       "      <td>9.2</td>\n",
       "      <td>619479</td>\n",
       "      <td>142 mins.</td>\n",
       "      <td>Crime|Drama</td>\n",
       "    </tr>\n",
       "    <tr>\n",
       "      <th>tt0110912</th>\n",
       "      <td>Pulp Fiction (1994)</td>\n",
       "      <td>1994</td>\n",
       "      <td>9.0</td>\n",
       "      <td>490065</td>\n",
       "      <td>154 mins.</td>\n",
       "      <td>Crime|Thriller</td>\n",
       "    </tr>\n",
       "    <tr>\n",
       "      <th>tt0137523</th>\n",
       "      <td>Fight Club (1999)</td>\n",
       "      <td>1999</td>\n",
       "      <td>8.8</td>\n",
       "      <td>458173</td>\n",
       "      <td>139 mins.</td>\n",
       "      <td>Drama|Mystery|Thriller</td>\n",
       "    </tr>\n",
       "    <tr>\n",
       "      <th>tt0133093</th>\n",
       "      <td>The Matrix (1999)</td>\n",
       "      <td>1999</td>\n",
       "      <td>8.7</td>\n",
       "      <td>448114</td>\n",
       "      <td>136 mins.</td>\n",
       "      <td>Action|Adventure|Sci-Fi</td>\n",
       "    </tr>\n",
       "    <tr>\n",
       "      <th>tt1375666</th>\n",
       "      <td>Inception (2010)</td>\n",
       "      <td>2010</td>\n",
       "      <td>8.9</td>\n",
       "      <td>385149</td>\n",
       "      <td>148 mins.</td>\n",
       "      <td>Action|Adventure|Sci-Fi|Thriller</td>\n",
       "    </tr>\n",
       "    <tr>\n",
       "      <th>...</th>\n",
       "      <td>...</td>\n",
       "      <td>...</td>\n",
       "      <td>...</td>\n",
       "      <td>...</td>\n",
       "      <td>...</td>\n",
       "      <td>...</td>\n",
       "    </tr>\n",
       "    <tr>\n",
       "      <th>tt0807721</th>\n",
       "      <td>Meduzot (2007)</td>\n",
       "      <td>2007</td>\n",
       "      <td>7.0</td>\n",
       "      <td>1357</td>\n",
       "      <td>78 mins.</td>\n",
       "      <td>Drama</td>\n",
       "    </tr>\n",
       "    <tr>\n",
       "      <th>tt0339642</th>\n",
       "      <td>Daltry Calhoun (2005)</td>\n",
       "      <td>2005</td>\n",
       "      <td>5.2</td>\n",
       "      <td>1357</td>\n",
       "      <td>100 mins.</td>\n",
       "      <td>Comedy|Drama|Music|Romance</td>\n",
       "    </tr>\n",
       "    <tr>\n",
       "      <th>tt0060880</th>\n",
       "      <td>The Quiller Memorandum (1966)</td>\n",
       "      <td>1966</td>\n",
       "      <td>6.5</td>\n",
       "      <td>1356</td>\n",
       "      <td>104 mins.</td>\n",
       "      <td>Drama|Mystery|Thriller</td>\n",
       "    </tr>\n",
       "    <tr>\n",
       "      <th>tt0152836</th>\n",
       "      <td>Taal (1999)</td>\n",
       "      <td>1999</td>\n",
       "      <td>6.5</td>\n",
       "      <td>1356</td>\n",
       "      <td>179 mins.</td>\n",
       "      <td>Musical|Romance</td>\n",
       "    </tr>\n",
       "    <tr>\n",
       "      <th>tt0279977</th>\n",
       "      <td>The Navigators (2001)</td>\n",
       "      <td>2001</td>\n",
       "      <td>6.9</td>\n",
       "      <td>1356</td>\n",
       "      <td>96 mins.</td>\n",
       "      <td>Comedy|Drama</td>\n",
       "    </tr>\n",
       "  </tbody>\n",
       "</table>\n",
       "<p>10000 rows × 6 columns</p>\n",
       "</div>"
      ],
      "text/plain": [
       "                                     Title  Year  Rating   Votes     Length  \\\n",
       "Id                                                                            \n",
       "tt0111161  The Shawshank Redemption (1994)  1994     9.2  619479  142 mins.   \n",
       "tt0110912              Pulp Fiction (1994)  1994     9.0  490065  154 mins.   \n",
       "tt0137523                Fight Club (1999)  1999     8.8  458173  139 mins.   \n",
       "tt0133093                The Matrix (1999)  1999     8.7  448114  136 mins.   \n",
       "tt1375666                 Inception (2010)  2010     8.9  385149  148 mins.   \n",
       "...                                    ...   ...     ...     ...        ...   \n",
       "tt0807721                   Meduzot (2007)  2007     7.0    1357   78 mins.   \n",
       "tt0339642            Daltry Calhoun (2005)  2005     5.2    1357  100 mins.   \n",
       "tt0060880    The Quiller Memorandum (1966)  1966     6.5    1356  104 mins.   \n",
       "tt0152836                      Taal (1999)  1999     6.5    1356  179 mins.   \n",
       "tt0279977            The Navigators (2001)  2001     6.9    1356   96 mins.   \n",
       "\n",
       "                                     Genres  \n",
       "Id                                           \n",
       "tt0111161                       Crime|Drama  \n",
       "tt0110912                    Crime|Thriller  \n",
       "tt0137523            Drama|Mystery|Thriller  \n",
       "tt0133093           Action|Adventure|Sci-Fi  \n",
       "tt1375666  Action|Adventure|Sci-Fi|Thriller  \n",
       "...                                     ...  \n",
       "tt0807721                             Drama  \n",
       "tt0339642        Comedy|Drama|Music|Romance  \n",
       "tt0060880            Drama|Mystery|Thriller  \n",
       "tt0152836                   Musical|Romance  \n",
       "tt0279977                      Comedy|Drama  \n",
       "\n",
       "[10000 rows x 6 columns]"
      ]
     },
     "execution_count": 30,
     "metadata": {},
     "output_type": "execute_result"
    }
   ],
   "source": [
    "data"
   ]
  },
  {
   "cell_type": "code",
   "execution_count": 13,
   "id": "054df2f2",
   "metadata": {},
   "outputs": [
    {
     "data": {
      "text/html": [
       "<div>\n",
       "<style scoped>\n",
       "    .dataframe tbody tr th:only-of-type {\n",
       "        vertical-align: middle;\n",
       "    }\n",
       "\n",
       "    .dataframe tbody tr th {\n",
       "        vertical-align: top;\n",
       "    }\n",
       "\n",
       "    .dataframe thead th {\n",
       "        text-align: right;\n",
       "    }\n",
       "</style>\n",
       "<table border=\"1\" class=\"dataframe\">\n",
       "  <thead>\n",
       "    <tr style=\"text-align: right;\">\n",
       "      <th></th>\n",
       "      <th>Title</th>\n",
       "      <th>Year</th>\n",
       "      <th>Rating</th>\n",
       "      <th>Votes</th>\n",
       "      <th>Length</th>\n",
       "      <th>Genres</th>\n",
       "    </tr>\n",
       "    <tr>\n",
       "      <th>Id</th>\n",
       "      <th></th>\n",
       "      <th></th>\n",
       "      <th></th>\n",
       "      <th></th>\n",
       "      <th></th>\n",
       "      <th></th>\n",
       "    </tr>\n",
       "  </thead>\n",
       "  <tbody>\n",
       "    <tr>\n",
       "      <th>tt0111161</th>\n",
       "      <td>The Shawshank Redemption (1994)</td>\n",
       "      <td>1994</td>\n",
       "      <td>9.2</td>\n",
       "      <td>619479</td>\n",
       "      <td>142 mins.</td>\n",
       "      <td>Crime|Drama</td>\n",
       "    </tr>\n",
       "    <tr>\n",
       "      <th>tt0110912</th>\n",
       "      <td>Pulp Fiction (1994)</td>\n",
       "      <td>1994</td>\n",
       "      <td>9.0</td>\n",
       "      <td>490065</td>\n",
       "      <td>154 mins.</td>\n",
       "      <td>Crime|Thriller</td>\n",
       "    </tr>\n",
       "    <tr>\n",
       "      <th>tt0137523</th>\n",
       "      <td>Fight Club (1999)</td>\n",
       "      <td>1999</td>\n",
       "      <td>8.8</td>\n",
       "      <td>458173</td>\n",
       "      <td>139 mins.</td>\n",
       "      <td>Drama|Mystery|Thriller</td>\n",
       "    </tr>\n",
       "  </tbody>\n",
       "</table>\n",
       "</div>"
      ],
      "text/plain": [
       "                                     Title  Year  Rating   Votes     Length  \\\n",
       "Id                                                                            \n",
       "tt0111161  The Shawshank Redemption (1994)  1994     9.2  619479  142 mins.   \n",
       "tt0110912              Pulp Fiction (1994)  1994     9.0  490065  154 mins.   \n",
       "tt0137523                Fight Club (1999)  1999     8.8  458173  139 mins.   \n",
       "\n",
       "                           Genres  \n",
       "Id                                 \n",
       "tt0111161             Crime|Drama  \n",
       "tt0110912          Crime|Thriller  \n",
       "tt0137523  Drama|Mystery|Thriller  "
      ]
     },
     "execution_count": 13,
     "metadata": {},
     "output_type": "execute_result"
    }
   ],
   "source": [
    "data.head(3)"
   ]
  },
  {
   "cell_type": "code",
   "execution_count": 21,
   "id": "3641449f",
   "metadata": {},
   "outputs": [
    {
     "data": {
      "text/html": [
       "<div>\n",
       "<style scoped>\n",
       "    .dataframe tbody tr th:only-of-type {\n",
       "        vertical-align: middle;\n",
       "    }\n",
       "\n",
       "    .dataframe tbody tr th {\n",
       "        vertical-align: top;\n",
       "    }\n",
       "\n",
       "    .dataframe thead th {\n",
       "        text-align: right;\n",
       "    }\n",
       "</style>\n",
       "<table border=\"1\" class=\"dataframe\">\n",
       "  <thead>\n",
       "    <tr style=\"text-align: right;\">\n",
       "      <th></th>\n",
       "      <th>Title</th>\n",
       "      <th>Year</th>\n",
       "      <th>Rating</th>\n",
       "      <th>Votes</th>\n",
       "      <th>Length</th>\n",
       "      <th>Genres</th>\n",
       "    </tr>\n",
       "    <tr>\n",
       "      <th>Id</th>\n",
       "      <th></th>\n",
       "      <th></th>\n",
       "      <th></th>\n",
       "      <th></th>\n",
       "      <th></th>\n",
       "      <th></th>\n",
       "    </tr>\n",
       "  </thead>\n",
       "  <tbody>\n",
       "    <tr>\n",
       "      <th>tt0807721</th>\n",
       "      <td>Meduzot (2007)</td>\n",
       "      <td>2007</td>\n",
       "      <td>7.0</td>\n",
       "      <td>1357</td>\n",
       "      <td>78 mins.</td>\n",
       "      <td>Drama</td>\n",
       "    </tr>\n",
       "    <tr>\n",
       "      <th>tt0339642</th>\n",
       "      <td>Daltry Calhoun (2005)</td>\n",
       "      <td>2005</td>\n",
       "      <td>5.2</td>\n",
       "      <td>1357</td>\n",
       "      <td>100 mins.</td>\n",
       "      <td>Comedy|Drama|Music|Romance</td>\n",
       "    </tr>\n",
       "    <tr>\n",
       "      <th>tt0060880</th>\n",
       "      <td>The Quiller Memorandum (1966)</td>\n",
       "      <td>1966</td>\n",
       "      <td>6.5</td>\n",
       "      <td>1356</td>\n",
       "      <td>104 mins.</td>\n",
       "      <td>Drama|Mystery|Thriller</td>\n",
       "    </tr>\n",
       "    <tr>\n",
       "      <th>tt0152836</th>\n",
       "      <td>Taal (1999)</td>\n",
       "      <td>1999</td>\n",
       "      <td>6.5</td>\n",
       "      <td>1356</td>\n",
       "      <td>179 mins.</td>\n",
       "      <td>Musical|Romance</td>\n",
       "    </tr>\n",
       "    <tr>\n",
       "      <th>tt0279977</th>\n",
       "      <td>The Navigators (2001)</td>\n",
       "      <td>2001</td>\n",
       "      <td>6.9</td>\n",
       "      <td>1356</td>\n",
       "      <td>96 mins.</td>\n",
       "      <td>Comedy|Drama</td>\n",
       "    </tr>\n",
       "  </tbody>\n",
       "</table>\n",
       "</div>"
      ],
      "text/plain": [
       "                                   Title  Year  Rating  Votes     Length  \\\n",
       "Id                                                                         \n",
       "tt0807721                 Meduzot (2007)  2007     7.0   1357   78 mins.   \n",
       "tt0339642          Daltry Calhoun (2005)  2005     5.2   1357  100 mins.   \n",
       "tt0060880  The Quiller Memorandum (1966)  1966     6.5   1356  104 mins.   \n",
       "tt0152836                    Taal (1999)  1999     6.5   1356  179 mins.   \n",
       "tt0279977          The Navigators (2001)  2001     6.9   1356   96 mins.   \n",
       "\n",
       "                               Genres  \n",
       "Id                                     \n",
       "tt0807721                       Drama  \n",
       "tt0339642  Comedy|Drama|Music|Romance  \n",
       "tt0060880      Drama|Mystery|Thriller  \n",
       "tt0152836             Musical|Romance  \n",
       "tt0279977                Comedy|Drama  "
      ]
     },
     "execution_count": 21,
     "metadata": {},
     "output_type": "execute_result"
    }
   ],
   "source": [
    "data.tail()"
   ]
  },
  {
   "cell_type": "code",
   "execution_count": 22,
   "id": "9088bc7c",
   "metadata": {},
   "outputs": [
    {
     "name": "stdout",
     "output_type": "stream",
     "text": [
      "<class 'pandas.core.frame.DataFrame'>\n",
      "Index: 10000 entries, tt0111161 to tt0279977\n",
      "Data columns (total 6 columns):\n",
      " #   Column  Non-Null Count  Dtype  \n",
      "---  ------  --------------  -----  \n",
      " 0   Title   10000 non-null  object \n",
      " 1   Year    10000 non-null  int64  \n",
      " 2   Rating  10000 non-null  float64\n",
      " 3   Votes   10000 non-null  int64  \n",
      " 4   Length  10000 non-null  object \n",
      " 5   Genres  9999 non-null   object \n",
      "dtypes: float64(1), int64(2), object(3)\n",
      "memory usage: 546.9+ KB\n"
     ]
    }
   ],
   "source": [
    "data.info()"
   ]
  },
  {
   "cell_type": "code",
   "execution_count": 26,
   "id": "8a1b357b",
   "metadata": {
    "scrolled": true
   },
   "outputs": [
    {
     "data": {
      "text/html": [
       "<div>\n",
       "<style scoped>\n",
       "    .dataframe tbody tr th:only-of-type {\n",
       "        vertical-align: middle;\n",
       "    }\n",
       "\n",
       "    .dataframe tbody tr th {\n",
       "        vertical-align: top;\n",
       "    }\n",
       "\n",
       "    .dataframe thead th {\n",
       "        text-align: right;\n",
       "    }\n",
       "</style>\n",
       "<table border=\"1\" class=\"dataframe\">\n",
       "  <thead>\n",
       "    <tr style=\"text-align: right;\">\n",
       "      <th></th>\n",
       "      <th>Year</th>\n",
       "      <th>Rating</th>\n",
       "      <th>Votes</th>\n",
       "    </tr>\n",
       "  </thead>\n",
       "  <tbody>\n",
       "    <tr>\n",
       "      <th>count</th>\n",
       "      <td>10000.000000</td>\n",
       "      <td>10000.000000</td>\n",
       "      <td>10000.000000</td>\n",
       "    </tr>\n",
       "    <tr>\n",
       "      <th>mean</th>\n",
       "      <td>1993.472800</td>\n",
       "      <td>6.386070</td>\n",
       "      <td>16604.012800</td>\n",
       "    </tr>\n",
       "    <tr>\n",
       "      <th>std</th>\n",
       "      <td>14.829924</td>\n",
       "      <td>1.189933</td>\n",
       "      <td>34563.459698</td>\n",
       "    </tr>\n",
       "    <tr>\n",
       "      <th>min</th>\n",
       "      <td>1950.000000</td>\n",
       "      <td>1.500000</td>\n",
       "      <td>1356.000000</td>\n",
       "    </tr>\n",
       "    <tr>\n",
       "      <th>25%</th>\n",
       "      <td>1986.000000</td>\n",
       "      <td>5.700000</td>\n",
       "      <td>2333.750000</td>\n",
       "    </tr>\n",
       "    <tr>\n",
       "      <th>50%</th>\n",
       "      <td>1998.000000</td>\n",
       "      <td>6.600000</td>\n",
       "      <td>4980.500000</td>\n",
       "    </tr>\n",
       "    <tr>\n",
       "      <th>75%</th>\n",
       "      <td>2005.000000</td>\n",
       "      <td>7.200000</td>\n",
       "      <td>15277.750000</td>\n",
       "    </tr>\n",
       "    <tr>\n",
       "      <th>max</th>\n",
       "      <td>2011.000000</td>\n",
       "      <td>9.200000</td>\n",
       "      <td>619479.000000</td>\n",
       "    </tr>\n",
       "  </tbody>\n",
       "</table>\n",
       "</div>"
      ],
      "text/plain": [
       "               Year        Rating          Votes\n",
       "count  10000.000000  10000.000000   10000.000000\n",
       "mean    1993.472800      6.386070   16604.012800\n",
       "std       14.829924      1.189933   34563.459698\n",
       "min     1950.000000      1.500000    1356.000000\n",
       "25%     1986.000000      5.700000    2333.750000\n",
       "50%     1998.000000      6.600000    4980.500000\n",
       "75%     2005.000000      7.200000   15277.750000\n",
       "max     2011.000000      9.200000  619479.000000"
      ]
     },
     "execution_count": 26,
     "metadata": {},
     "output_type": "execute_result"
    }
   ],
   "source": [
    "data.describe()"
   ]
  },
  {
   "cell_type": "markdown",
   "id": "2247bd99",
   "metadata": {},
   "source": [
    "# Exporting Data"
   ]
  },
  {
   "cell_type": "code",
   "execution_count": 28,
   "id": "e064b60f",
   "metadata": {},
   "outputs": [],
   "source": [
    "data.to_csv('test.csv', header=True, index=True, sep=',')"
   ]
  },
  {
   "cell_type": "markdown",
   "id": "d60710e6",
   "metadata": {},
   "source": [
    "# Sorting Data"
   ]
  },
  {
   "cell_type": "markdown",
   "id": "40752be6",
   "metadata": {},
   "source": [
    "Let's learn how to sort our data. For this, you use the data.sort_values(by='') function. Whatever is between the quotes represents the column you want to sort by. You can also specify the order you want the sorted data in by passing in an argument: ascending=False or ascending=True.\n",
    "\n",
    "There's an easy function that will help us sort our data: data.sort_values(by='')- with whatever is in between quotes representing a column we want to work with. If we were to run sort by rating, our table would display starting with the lowest ratings.\n",
    "\n",
    "If we wanted to look at the highest rating first, we would have to add the argument: \n",
    "\n",
    "data.sort_values(by='rating', ascending=False)"
   ]
  },
  {
   "cell_type": "code",
   "execution_count": 17,
   "id": "ce78033f",
   "metadata": {
    "scrolled": false
   },
   "outputs": [
    {
     "data": {
      "text/html": [
       "<div>\n",
       "<style scoped>\n",
       "    .dataframe tbody tr th:only-of-type {\n",
       "        vertical-align: middle;\n",
       "    }\n",
       "\n",
       "    .dataframe tbody tr th {\n",
       "        vertical-align: top;\n",
       "    }\n",
       "\n",
       "    .dataframe thead th {\n",
       "        text-align: right;\n",
       "    }\n",
       "</style>\n",
       "<table border=\"1\" class=\"dataframe\">\n",
       "  <thead>\n",
       "    <tr style=\"text-align: right;\">\n",
       "      <th></th>\n",
       "      <th>Title</th>\n",
       "      <th>Year</th>\n",
       "      <th>Rating</th>\n",
       "      <th>Votes</th>\n",
       "      <th>Length</th>\n",
       "      <th>Genres</th>\n",
       "    </tr>\n",
       "    <tr>\n",
       "      <th>Id</th>\n",
       "      <th></th>\n",
       "      <th></th>\n",
       "      <th></th>\n",
       "      <th></th>\n",
       "      <th></th>\n",
       "      <th></th>\n",
       "    </tr>\n",
       "  </thead>\n",
       "  <tbody>\n",
       "    <tr>\n",
       "      <th>tt0270846</th>\n",
       "      <td>Superbabies: Baby Geniuses 2 (2004)</td>\n",
       "      <td>2004</td>\n",
       "      <td>1.5</td>\n",
       "      <td>13196</td>\n",
       "      <td>88 mins.</td>\n",
       "      <td>Comedy|Family</td>\n",
       "    </tr>\n",
       "    <tr>\n",
       "      <th>tt0059464</th>\n",
       "      <td>Monster a-Go Go (1965)</td>\n",
       "      <td>1965</td>\n",
       "      <td>1.5</td>\n",
       "      <td>3255</td>\n",
       "      <td>70 mins.</td>\n",
       "      <td>Sci-Fi|Horror</td>\n",
       "    </tr>\n",
       "    <tr>\n",
       "      <th>tt0364986</th>\n",
       "      <td>Ben &amp; Arthur (2002)</td>\n",
       "      <td>2002</td>\n",
       "      <td>1.5</td>\n",
       "      <td>4675</td>\n",
       "      <td>85 mins.</td>\n",
       "      <td>Drama|Romance</td>\n",
       "    </tr>\n",
       "    <tr>\n",
       "      <th>tt0421051</th>\n",
       "      <td>Daniel the Wizard (2004)</td>\n",
       "      <td>2004</td>\n",
       "      <td>1.5</td>\n",
       "      <td>8271</td>\n",
       "      <td>81 mins.</td>\n",
       "      <td>Comedy|Crime|Family|Fantasy|Horror</td>\n",
       "    </tr>\n",
       "    <tr>\n",
       "      <th>tt1309000</th>\n",
       "      <td>Dream Well (2009)</td>\n",
       "      <td>2009</td>\n",
       "      <td>1.5</td>\n",
       "      <td>2848</td>\n",
       "      <td>00 mins.</td>\n",
       "      <td>Comedy|Romance|Sport</td>\n",
       "    </tr>\n",
       "    <tr>\n",
       "      <th>...</th>\n",
       "      <td>...</td>\n",
       "      <td>...</td>\n",
       "      <td>...</td>\n",
       "      <td>...</td>\n",
       "      <td>...</td>\n",
       "      <td>...</td>\n",
       "    </tr>\n",
       "    <tr>\n",
       "      <th>tt0071562</th>\n",
       "      <td>The Godfather: Part II (1974)</td>\n",
       "      <td>1974</td>\n",
       "      <td>9.0</td>\n",
       "      <td>291169</td>\n",
       "      <td>200 mins.</td>\n",
       "      <td>Crime|Drama</td>\n",
       "    </tr>\n",
       "    <tr>\n",
       "      <th>tt0060196</th>\n",
       "      <td>The Good, the Bad and the Ugly (1966)</td>\n",
       "      <td>1966</td>\n",
       "      <td>9.0</td>\n",
       "      <td>195238</td>\n",
       "      <td>161 mins.</td>\n",
       "      <td>Western</td>\n",
       "    </tr>\n",
       "    <tr>\n",
       "      <th>tt0110912</th>\n",
       "      <td>Pulp Fiction (1994)</td>\n",
       "      <td>1994</td>\n",
       "      <td>9.0</td>\n",
       "      <td>490065</td>\n",
       "      <td>154 mins.</td>\n",
       "      <td>Crime|Thriller</td>\n",
       "    </tr>\n",
       "    <tr>\n",
       "      <th>tt0068646</th>\n",
       "      <td>The Godfather (1972)</td>\n",
       "      <td>1972</td>\n",
       "      <td>9.2</td>\n",
       "      <td>474189</td>\n",
       "      <td>175 mins.</td>\n",
       "      <td>Crime|Drama</td>\n",
       "    </tr>\n",
       "    <tr>\n",
       "      <th>tt0111161</th>\n",
       "      <td>The Shawshank Redemption (1994)</td>\n",
       "      <td>1994</td>\n",
       "      <td>9.2</td>\n",
       "      <td>619479</td>\n",
       "      <td>142 mins.</td>\n",
       "      <td>Crime|Drama</td>\n",
       "    </tr>\n",
       "  </tbody>\n",
       "</table>\n",
       "<p>10000 rows × 6 columns</p>\n",
       "</div>"
      ],
      "text/plain": [
       "                                           Title  Year  Rating   Votes  \\\n",
       "Id                                                                       \n",
       "tt0270846    Superbabies: Baby Geniuses 2 (2004)  2004     1.5   13196   \n",
       "tt0059464                 Monster a-Go Go (1965)  1965     1.5    3255   \n",
       "tt0364986                    Ben & Arthur (2002)  2002     1.5    4675   \n",
       "tt0421051               Daniel the Wizard (2004)  2004     1.5    8271   \n",
       "tt1309000                      Dream Well (2009)  2009     1.5    2848   \n",
       "...                                          ...   ...     ...     ...   \n",
       "tt0071562          The Godfather: Part II (1974)  1974     9.0  291169   \n",
       "tt0060196  The Good, the Bad and the Ugly (1966)  1966     9.0  195238   \n",
       "tt0110912                    Pulp Fiction (1994)  1994     9.0  490065   \n",
       "tt0068646                   The Godfather (1972)  1972     9.2  474189   \n",
       "tt0111161        The Shawshank Redemption (1994)  1994     9.2  619479   \n",
       "\n",
       "              Length                              Genres  \n",
       "Id                                                        \n",
       "tt0270846   88 mins.                       Comedy|Family  \n",
       "tt0059464   70 mins.                       Sci-Fi|Horror  \n",
       "tt0364986   85 mins.                       Drama|Romance  \n",
       "tt0421051   81 mins.  Comedy|Crime|Family|Fantasy|Horror  \n",
       "tt1309000   00 mins.                Comedy|Romance|Sport  \n",
       "...              ...                                 ...  \n",
       "tt0071562  200 mins.                         Crime|Drama  \n",
       "tt0060196  161 mins.                             Western  \n",
       "tt0110912  154 mins.                      Crime|Thriller  \n",
       "tt0068646  175 mins.                         Crime|Drama  \n",
       "tt0111161  142 mins.                         Crime|Drama  \n",
       "\n",
       "[10000 rows x 6 columns]"
      ]
     },
     "execution_count": 17,
     "metadata": {},
     "output_type": "execute_result"
    }
   ],
   "source": [
    "data.sort_values(by='Rating')"
   ]
  },
  {
   "cell_type": "code",
   "execution_count": 12,
   "id": "bd664ada",
   "metadata": {},
   "outputs": [
    {
     "data": {
      "text/html": [
       "<div>\n",
       "<style scoped>\n",
       "    .dataframe tbody tr th:only-of-type {\n",
       "        vertical-align: middle;\n",
       "    }\n",
       "\n",
       "    .dataframe tbody tr th {\n",
       "        vertical-align: top;\n",
       "    }\n",
       "\n",
       "    .dataframe thead th {\n",
       "        text-align: right;\n",
       "    }\n",
       "</style>\n",
       "<table border=\"1\" class=\"dataframe\">\n",
       "  <thead>\n",
       "    <tr style=\"text-align: right;\">\n",
       "      <th></th>\n",
       "      <th>Title</th>\n",
       "      <th>Year</th>\n",
       "      <th>Rating</th>\n",
       "      <th>Votes</th>\n",
       "      <th>Length</th>\n",
       "      <th>Genres</th>\n",
       "    </tr>\n",
       "    <tr>\n",
       "      <th>Id</th>\n",
       "      <th></th>\n",
       "      <th></th>\n",
       "      <th></th>\n",
       "      <th></th>\n",
       "      <th></th>\n",
       "      <th></th>\n",
       "    </tr>\n",
       "  </thead>\n",
       "  <tbody>\n",
       "    <tr>\n",
       "      <th>tt0111161</th>\n",
       "      <td>The Shawshank Redemption (1994)</td>\n",
       "      <td>1994</td>\n",
       "      <td>9.2</td>\n",
       "      <td>619479</td>\n",
       "      <td>142 mins.</td>\n",
       "      <td>Crime|Drama</td>\n",
       "    </tr>\n",
       "    <tr>\n",
       "      <th>tt0068646</th>\n",
       "      <td>The Godfather (1972)</td>\n",
       "      <td>1972</td>\n",
       "      <td>9.2</td>\n",
       "      <td>474189</td>\n",
       "      <td>175 mins.</td>\n",
       "      <td>Crime|Drama</td>\n",
       "    </tr>\n",
       "    <tr>\n",
       "      <th>tt0060196</th>\n",
       "      <td>The Good, the Bad and the Ugly (1966)</td>\n",
       "      <td>1966</td>\n",
       "      <td>9.0</td>\n",
       "      <td>195238</td>\n",
       "      <td>161 mins.</td>\n",
       "      <td>Western</td>\n",
       "    </tr>\n",
       "    <tr>\n",
       "      <th>tt0110912</th>\n",
       "      <td>Pulp Fiction (1994)</td>\n",
       "      <td>1994</td>\n",
       "      <td>9.0</td>\n",
       "      <td>490065</td>\n",
       "      <td>154 mins.</td>\n",
       "      <td>Crime|Thriller</td>\n",
       "    </tr>\n",
       "    <tr>\n",
       "      <th>tt0252487</th>\n",
       "      <td>Outrageous Class (1975)</td>\n",
       "      <td>1975</td>\n",
       "      <td>9.0</td>\n",
       "      <td>9823</td>\n",
       "      <td>87 mins.</td>\n",
       "      <td>Comedy|Drama</td>\n",
       "    </tr>\n",
       "    <tr>\n",
       "      <th>...</th>\n",
       "      <td>...</td>\n",
       "      <td>...</td>\n",
       "      <td>...</td>\n",
       "      <td>...</td>\n",
       "      <td>...</td>\n",
       "      <td>...</td>\n",
       "    </tr>\n",
       "    <tr>\n",
       "      <th>tt0364986</th>\n",
       "      <td>Ben &amp; Arthur (2002)</td>\n",
       "      <td>2002</td>\n",
       "      <td>1.5</td>\n",
       "      <td>4675</td>\n",
       "      <td>85 mins.</td>\n",
       "      <td>Drama|Romance</td>\n",
       "    </tr>\n",
       "    <tr>\n",
       "      <th>tt0060753</th>\n",
       "      <td>Night Train to Mundo Fine (1966)</td>\n",
       "      <td>1966</td>\n",
       "      <td>1.5</td>\n",
       "      <td>3542</td>\n",
       "      <td>89 mins.</td>\n",
       "      <td>Action|Adventure|Crime|War</td>\n",
       "    </tr>\n",
       "    <tr>\n",
       "      <th>tt0421051</th>\n",
       "      <td>Daniel the Wizard (2004)</td>\n",
       "      <td>2004</td>\n",
       "      <td>1.5</td>\n",
       "      <td>8271</td>\n",
       "      <td>81 mins.</td>\n",
       "      <td>Comedy|Crime|Family|Fantasy|Horror</td>\n",
       "    </tr>\n",
       "    <tr>\n",
       "      <th>tt0059464</th>\n",
       "      <td>Monster a-Go Go (1965)</td>\n",
       "      <td>1965</td>\n",
       "      <td>1.5</td>\n",
       "      <td>3255</td>\n",
       "      <td>70 mins.</td>\n",
       "      <td>Sci-Fi|Horror</td>\n",
       "    </tr>\n",
       "    <tr>\n",
       "      <th>tt0060666</th>\n",
       "      <td>Manos: The Hands of Fate (1966)</td>\n",
       "      <td>1966</td>\n",
       "      <td>1.5</td>\n",
       "      <td>20927</td>\n",
       "      <td>74 mins.</td>\n",
       "      <td>Horror</td>\n",
       "    </tr>\n",
       "  </tbody>\n",
       "</table>\n",
       "<p>10000 rows × 6 columns</p>\n",
       "</div>"
      ],
      "text/plain": [
       "                                           Title  Year  Rating   Votes  \\\n",
       "Id                                                                       \n",
       "tt0111161        The Shawshank Redemption (1994)  1994     9.2  619479   \n",
       "tt0068646                   The Godfather (1972)  1972     9.2  474189   \n",
       "tt0060196  The Good, the Bad and the Ugly (1966)  1966     9.0  195238   \n",
       "tt0110912                    Pulp Fiction (1994)  1994     9.0  490065   \n",
       "tt0252487                Outrageous Class (1975)  1975     9.0    9823   \n",
       "...                                          ...   ...     ...     ...   \n",
       "tt0364986                    Ben & Arthur (2002)  2002     1.5    4675   \n",
       "tt0060753       Night Train to Mundo Fine (1966)  1966     1.5    3542   \n",
       "tt0421051               Daniel the Wizard (2004)  2004     1.5    8271   \n",
       "tt0059464                 Monster a-Go Go (1965)  1965     1.5    3255   \n",
       "tt0060666        Manos: The Hands of Fate (1966)  1966     1.5   20927   \n",
       "\n",
       "              Length                              Genres  \n",
       "Id                                                        \n",
       "tt0111161  142 mins.                         Crime|Drama  \n",
       "tt0068646  175 mins.                         Crime|Drama  \n",
       "tt0060196  161 mins.                             Western  \n",
       "tt0110912  154 mins.                      Crime|Thriller  \n",
       "tt0252487   87 mins.                        Comedy|Drama  \n",
       "...              ...                                 ...  \n",
       "tt0364986   85 mins.                       Drama|Romance  \n",
       "tt0060753   89 mins.          Action|Adventure|Crime|War  \n",
       "tt0421051   81 mins.  Comedy|Crime|Family|Fantasy|Horror  \n",
       "tt0059464   70 mins.                       Sci-Fi|Horror  \n",
       "tt0060666   74 mins.                              Horror  \n",
       "\n",
       "[10000 rows x 6 columns]"
      ]
     },
     "execution_count": 12,
     "metadata": {},
     "output_type": "execute_result"
    }
   ],
   "source": [
    "data.sort_values(by='Rating', ascending=False)"
   ]
  },
  {
   "cell_type": "markdown",
   "id": "9d2e34e9",
   "metadata": {},
   "source": [
    "# Creating Fata Frames from Scratch"
   ]
  },
  {
   "cell_type": "markdown",
   "id": "a646955d",
   "metadata": {},
   "source": [
    "So far, we've been using a data structure from the Pandas library called a DataFrame. According to the documentation, a DataFrame is a two-dimensional size-mutable, potentially heterogeneous tabular data structure with labeled axes (rows and columns). In simpler words, DataFrames are the tables we see when pandas runs our data. Underneath, a DataFrame is just a Python dictionary with lists inside of it. We look at how to create a DataFrame from scratch.\n",
    "\n",
    "The tables that we see when pandas runs our data are called data frames. But all data frames really are, is a Python dictionary with lists inside of it. You can create data frames from scratch if you want. Like, say, this one:"
   ]
  },
  {
   "cell_type": "code",
   "execution_count": 48,
   "id": "433d75e0",
   "metadata": {},
   "outputs": [],
   "source": [
    "sample_data = {\n",
    "    'tv': [230.1, 44.5, 17.2],\n",
    "    'radio': [37.8, 39.3, 45.9],\n",
    "    'news': [69.2, 45.1, 69.3],\n",
    "    'sales': [22.1, 10.4 ,9.3]\n",
    "}"
   ]
  },
  {
   "cell_type": "code",
   "execution_count": 49,
   "id": "3fe959dc",
   "metadata": {},
   "outputs": [],
   "source": [
    "data2 = pd.DataFrame(sample_data)"
   ]
  },
  {
   "cell_type": "code",
   "execution_count": 50,
   "id": "143f684d",
   "metadata": {},
   "outputs": [
    {
     "data": {
      "text/html": [
       "<div>\n",
       "<style scoped>\n",
       "    .dataframe tbody tr th:only-of-type {\n",
       "        vertical-align: middle;\n",
       "    }\n",
       "\n",
       "    .dataframe tbody tr th {\n",
       "        vertical-align: top;\n",
       "    }\n",
       "\n",
       "    .dataframe thead th {\n",
       "        text-align: right;\n",
       "    }\n",
       "</style>\n",
       "<table border=\"1\" class=\"dataframe\">\n",
       "  <thead>\n",
       "    <tr style=\"text-align: right;\">\n",
       "      <th></th>\n",
       "      <th>tv</th>\n",
       "      <th>radio</th>\n",
       "      <th>news</th>\n",
       "      <th>sales</th>\n",
       "    </tr>\n",
       "  </thead>\n",
       "  <tbody>\n",
       "    <tr>\n",
       "      <th>0</th>\n",
       "      <td>230.1</td>\n",
       "      <td>37.8</td>\n",
       "      <td>69.2</td>\n",
       "      <td>22.1</td>\n",
       "    </tr>\n",
       "    <tr>\n",
       "      <th>1</th>\n",
       "      <td>44.5</td>\n",
       "      <td>39.3</td>\n",
       "      <td>45.1</td>\n",
       "      <td>10.4</td>\n",
       "    </tr>\n",
       "    <tr>\n",
       "      <th>2</th>\n",
       "      <td>17.2</td>\n",
       "      <td>45.9</td>\n",
       "      <td>69.3</td>\n",
       "      <td>9.3</td>\n",
       "    </tr>\n",
       "  </tbody>\n",
       "</table>\n",
       "</div>"
      ],
      "text/plain": [
       "      tv  radio  news  sales\n",
       "0  230.1   37.8  69.2   22.1\n",
       "1   44.5   39.3  45.1   10.4\n",
       "2   17.2   45.9  69.3    9.3"
      ]
     },
     "execution_count": 50,
     "metadata": {},
     "output_type": "execute_result"
    }
   ],
   "source": [
    "data2"
   ]
  },
  {
   "cell_type": "code",
   "execution_count": 47,
   "id": "353ec08c",
   "metadata": {},
   "outputs": [],
   "source": [
    "#del data2 \n",
    "#delete the frame/dictionaries"
   ]
  },
  {
   "cell_type": "code",
   "execution_count": 44,
   "id": "2d8d6d4c",
   "metadata": {},
   "outputs": [],
   "source": [
    "#data2"
   ]
  },
  {
   "cell_type": "code",
   "execution_count": 75,
   "id": "5d8c3bae",
   "metadata": {},
   "outputs": [],
   "source": [
    "#data2.to_csv('text2.csv', header=True, index=True, sep=',')"
   ]
  },
  {
   "cell_type": "code",
   "execution_count": 74,
   "id": "4770db95",
   "metadata": {},
   "outputs": [],
   "source": [
    "#pd.set_option('display.max_columns', None)  # or 1000\n",
    "#pd.read_csv('business-financial-data-mar-2022-quarter-csv.csv')"
   ]
  },
  {
   "cell_type": "markdown",
   "id": "5943c43e",
   "metadata": {},
   "source": [
    "# Selecting Data"
   ]
  },
  {
   "cell_type": "markdown",
   "id": "ba30b395",
   "metadata": {},
   "source": [
    "When analyzing a data set, you might want to only deal with some portion of the data set. With Pandas, you can easily grab a subset of a set of data. You can, for instance, specify that you want a certain column (or a few columns) and you can even use some functions on the subset to get specific information about the subset, e.g. using max() to get the maximum value in a subset, or mean() to get the average of all values in a subset.\n",
    "\n",
    "There are many different ways you can pull out specific columns of your data, depending on what you're looking for. But these are some good functions to have in your pocket as you sort through everything: "
   ]
  },
  {
   "cell_type": "code",
   "execution_count": 77,
   "id": "34791fe2",
   "metadata": {},
   "outputs": [
    {
     "data": {
      "text/plain": [
       "Id\n",
       "tt0111161    The Shawshank Redemption (1994)\n",
       "tt0110912                Pulp Fiction (1994)\n",
       "tt0137523                  Fight Club (1999)\n",
       "tt0133093                  The Matrix (1999)\n",
       "tt1375666                   Inception (2010)\n",
       "                          ...               \n",
       "tt0807721                     Meduzot (2007)\n",
       "tt0339642              Daltry Calhoun (2005)\n",
       "tt0060880      The Quiller Memorandum (1966)\n",
       "tt0152836                        Taal (1999)\n",
       "tt0279977              The Navigators (2001)\n",
       "Name: Title, Length: 10000, dtype: object"
      ]
     },
     "execution_count": 77,
     "metadata": {},
     "output_type": "execute_result"
    }
   ],
   "source": [
    "data['Title']"
   ]
  },
  {
   "cell_type": "code",
   "execution_count": 82,
   "id": "f564edb0",
   "metadata": {},
   "outputs": [
    {
     "name": "stderr",
     "output_type": "stream",
     "text": [
      "C:\\Users\\jandy\\AppData\\Local\\Temp\\ipykernel_2100\\2283290529.py:1: FutureWarning: Passing a set as an indexer is deprecated and will raise in a future version. Use a list instead.\n",
      "  data[{'Title', 'Year'}]\n"
     ]
    },
    {
     "data": {
      "text/html": [
       "<div>\n",
       "<style scoped>\n",
       "    .dataframe tbody tr th:only-of-type {\n",
       "        vertical-align: middle;\n",
       "    }\n",
       "\n",
       "    .dataframe tbody tr th {\n",
       "        vertical-align: top;\n",
       "    }\n",
       "\n",
       "    .dataframe thead th {\n",
       "        text-align: right;\n",
       "    }\n",
       "</style>\n",
       "<table border=\"1\" class=\"dataframe\">\n",
       "  <thead>\n",
       "    <tr style=\"text-align: right;\">\n",
       "      <th></th>\n",
       "      <th>Title</th>\n",
       "      <th>Year</th>\n",
       "    </tr>\n",
       "    <tr>\n",
       "      <th>Id</th>\n",
       "      <th></th>\n",
       "      <th></th>\n",
       "    </tr>\n",
       "  </thead>\n",
       "  <tbody>\n",
       "    <tr>\n",
       "      <th>tt0111161</th>\n",
       "      <td>The Shawshank Redemption (1994)</td>\n",
       "      <td>1994</td>\n",
       "    </tr>\n",
       "    <tr>\n",
       "      <th>tt0110912</th>\n",
       "      <td>Pulp Fiction (1994)</td>\n",
       "      <td>1994</td>\n",
       "    </tr>\n",
       "    <tr>\n",
       "      <th>tt0137523</th>\n",
       "      <td>Fight Club (1999)</td>\n",
       "      <td>1999</td>\n",
       "    </tr>\n",
       "    <tr>\n",
       "      <th>tt0133093</th>\n",
       "      <td>The Matrix (1999)</td>\n",
       "      <td>1999</td>\n",
       "    </tr>\n",
       "    <tr>\n",
       "      <th>tt1375666</th>\n",
       "      <td>Inception (2010)</td>\n",
       "      <td>2010</td>\n",
       "    </tr>\n",
       "    <tr>\n",
       "      <th>...</th>\n",
       "      <td>...</td>\n",
       "      <td>...</td>\n",
       "    </tr>\n",
       "    <tr>\n",
       "      <th>tt0807721</th>\n",
       "      <td>Meduzot (2007)</td>\n",
       "      <td>2007</td>\n",
       "    </tr>\n",
       "    <tr>\n",
       "      <th>tt0339642</th>\n",
       "      <td>Daltry Calhoun (2005)</td>\n",
       "      <td>2005</td>\n",
       "    </tr>\n",
       "    <tr>\n",
       "      <th>tt0060880</th>\n",
       "      <td>The Quiller Memorandum (1966)</td>\n",
       "      <td>1966</td>\n",
       "    </tr>\n",
       "    <tr>\n",
       "      <th>tt0152836</th>\n",
       "      <td>Taal (1999)</td>\n",
       "      <td>1999</td>\n",
       "    </tr>\n",
       "    <tr>\n",
       "      <th>tt0279977</th>\n",
       "      <td>The Navigators (2001)</td>\n",
       "      <td>2001</td>\n",
       "    </tr>\n",
       "  </tbody>\n",
       "</table>\n",
       "<p>10000 rows × 2 columns</p>\n",
       "</div>"
      ],
      "text/plain": [
       "                                     Title  Year\n",
       "Id                                              \n",
       "tt0111161  The Shawshank Redemption (1994)  1994\n",
       "tt0110912              Pulp Fiction (1994)  1994\n",
       "tt0137523                Fight Club (1999)  1999\n",
       "tt0133093                The Matrix (1999)  1999\n",
       "tt1375666                 Inception (2010)  2010\n",
       "...                                    ...   ...\n",
       "tt0807721                   Meduzot (2007)  2007\n",
       "tt0339642            Daltry Calhoun (2005)  2005\n",
       "tt0060880    The Quiller Memorandum (1966)  1966\n",
       "tt0152836                      Taal (1999)  1999\n",
       "tt0279977            The Navigators (2001)  2001\n",
       "\n",
       "[10000 rows x 2 columns]"
      ]
     },
     "execution_count": 82,
     "metadata": {},
     "output_type": "execute_result"
    }
   ],
   "source": [
    "data[{'Title', 'Year'}]"
   ]
  },
  {
   "cell_type": "code",
   "execution_count": 83,
   "id": "15f804fc",
   "metadata": {},
   "outputs": [
    {
     "data": {
      "text/plain": [
       "6.386069999999981"
      ]
     },
     "execution_count": 83,
     "metadata": {},
     "output_type": "execute_result"
    }
   ],
   "source": [
    "data['Rating'].mean()"
   ]
  },
  {
   "cell_type": "code",
   "execution_count": 84,
   "id": "b9d1a2a9",
   "metadata": {},
   "outputs": [
    {
     "data": {
      "text/plain": [
       "9.2"
      ]
     },
     "execution_count": 84,
     "metadata": {},
     "output_type": "execute_result"
    }
   ],
   "source": [
    "data['Rating'].max()"
   ]
  },
  {
   "cell_type": "code",
   "execution_count": 85,
   "id": "267721c1",
   "metadata": {},
   "outputs": [
    {
     "data": {
      "text/plain": [
       "1.5"
      ]
     },
     "execution_count": 85,
     "metadata": {},
     "output_type": "execute_result"
    }
   ],
   "source": [
    "data['Rating'].min()"
   ]
  },
  {
   "cell_type": "code",
   "execution_count": 86,
   "id": "e49bfcd8",
   "metadata": {},
   "outputs": [
    {
     "data": {
      "text/plain": [
       "array(['Crime|Drama', 'Crime|Thriller', 'Drama|Mystery|Thriller', ...,\n",
       "       'Drama|War|Adventure|Romance', 'Western|Sci-Fi|Thriller',\n",
       "       'Adventure|Comedy|Drama|War'], dtype=object)"
      ]
     },
     "execution_count": 86,
     "metadata": {},
     "output_type": "execute_result"
    }
   ],
   "source": [
    "data['Genres'].unique()"
   ]
  },
  {
   "cell_type": "code",
   "execution_count": 87,
   "id": "a9276e35",
   "metadata": {},
   "outputs": [
    {
     "data": {
      "text/plain": [
       "7.1    401\n",
       "6.8    401\n",
       "7.2    386\n",
       "6.7    384\n",
       "7.0    382\n",
       "      ... \n",
       "1.5      7\n",
       "1.6      6\n",
       "8.9      5\n",
       "9.0      4\n",
       "9.2      2\n",
       "Name: Rating, Length: 77, dtype: int64"
      ]
     },
     "execution_count": 87,
     "metadata": {},
     "output_type": "execute_result"
    }
   ],
   "source": [
    "data['Rating'].value_counts()"
   ]
  },
  {
   "cell_type": "code",
   "execution_count": 88,
   "id": "d2d44915",
   "metadata": {},
   "outputs": [
    {
     "data": {
      "text/plain": [
       "1.5     7\n",
       "1.6     6\n",
       "1.7    12\n",
       "1.8    12\n",
       "1.9     9\n",
       "       ..\n",
       "8.7    13\n",
       "8.8     9\n",
       "8.9     5\n",
       "9.0     4\n",
       "9.2     2\n",
       "Name: Rating, Length: 77, dtype: int64"
      ]
     },
     "execution_count": 88,
     "metadata": {},
     "output_type": "execute_result"
    }
   ],
   "source": [
    "data['Rating'].value_counts().sort_index()"
   ]
  },
  {
   "cell_type": "code",
   "execution_count": 6,
   "id": "d4d1de12",
   "metadata": {},
   "outputs": [
    {
     "data": {
      "text/plain": [
       "9.2     2\n",
       "9.0     4\n",
       "8.9     5\n",
       "8.8     9\n",
       "8.7    13\n",
       "       ..\n",
       "1.9     9\n",
       "1.8    12\n",
       "1.7    12\n",
       "1.6     6\n",
       "1.5     7\n",
       "Name: Rating, Length: 77, dtype: int64"
      ]
     },
     "execution_count": 6,
     "metadata": {},
     "output_type": "execute_result"
    }
   ],
   "source": [
    "data['Rating'].value_counts().sort_index(ascending=False)"
   ]
  },
  {
   "cell_type": "markdown",
   "id": "a6c87895",
   "metadata": {},
   "source": [
    "# Plotting"
   ]
  },
  {
   "cell_type": "markdown",
   "id": "2c06a48a",
   "metadata": {},
   "source": [
    "\n",
    "Once we've evaluated our data, it can be useful to plot it and have it in a more visual form. In this lesson, we use the Matplotlib library to do this. Matplotlib is a Python 2D plotting library which produces figures in a variety of formats. With Matplotlib, you can easily generate plots, histograms, boxplots, power spectra, bar charts, pie charts, error charts, scatterplots, etc.\n",
    "\n",
    "One of the more popular Python plotting libraries is Matplotlib. There are all sorts of formatting we could get into, but that would be a whole other class. For now, let's start by enabling Matplotlib in Jupyter Notebook by entering the command: "
   ]
  },
  {
   "cell_type": "code",
   "execution_count": 7,
   "id": "12b1766d",
   "metadata": {},
   "outputs": [],
   "source": [
    "%matplotlib inline"
   ]
  },
  {
   "cell_type": "code",
   "execution_count": 8,
   "id": "7ea2fc03",
   "metadata": {},
   "outputs": [
    {
     "data": {
      "text/plain": [
       "<AxesSubplot:xlabel='Id'>"
      ]
     },
     "execution_count": 8,
     "metadata": {},
     "output_type": "execute_result"
    },
    {
     "data": {
      "image/png": "[encoded data removed]",
      "text/plain": [
       "<Figure size 432x288 with 1 Axes>"
      ]
     },
     "metadata": {
      "needs_background": "light"
     },
     "output_type": "display_data"
    }
   ],
   "source": [
    "data.plot()"
   ]
  },
  {
   "cell_type": "code",
   "execution_count": 10,
   "id": "ef9ca6a5",
   "metadata": {},
   "outputs": [
    {
     "data": {
      "text/plain": [
       "<AxesSubplot:xlabel='Rating', ylabel='Votes'>"
      ]
     },
     "execution_count": 10,
     "metadata": {},
     "output_type": "execute_result"
    },
    {
     "data": {
      "image/png": "[encoded data removed]",
      "text/plain": [
       "<Figure size 432x288 with 1 Axes>"
      ]
     },
     "metadata": {
      "needs_background": "light"
     },
     "output_type": "display_data"
    }
   ],
   "source": [
    "data.plot(kind='scatter', x='Rating',y='Votes')"
   ]
  },
  {
   "cell_type": "code",
   "execution_count": 16,
   "id": "15eb64e0",
   "metadata": {},
   "outputs": [
    {
     "data": {
      "text/plain": [
       "<AxesSubplot:xlabel='Rating', ylabel='Votes'>"
      ]
     },
     "execution_count": 16,
     "metadata": {},
     "output_type": "execute_result"
    },
    {
     "data": {
      "image/png": "[encoded data removed]",
      "text/plain": [
       "<Figure size 432x288 with 1 Axes>"
      ]
     },
     "metadata": {
      "needs_background": "light"
     },
     "output_type": "display_data"
    }
   ],
   "source": [
    "#https://pandas.pydata.org/pandas-docs/stable/reference/api/pandas.DataFrame.plot.html\n",
    "data.plot(kind='scatter', x='Rating',y='Votes', alpha=0.3)"
   ]
  },
  {
   "cell_type": "code",
   "execution_count": 15,
   "id": "b5da1b0a",
   "metadata": {},
   "outputs": [
    {
     "data": {
      "text/plain": [
       "<AxesSubplot:ylabel='Frequency'>"
      ]
     },
     "execution_count": 15,
     "metadata": {},
     "output_type": "execute_result"
    },
    {
     "data": {
      "image/png": "[encoded data removed]",
      "text/plain": [
       "<Figure size 432x288 with 1 Axes>"
      ]
     },
     "metadata": {
      "needs_background": "light"
     },
     "output_type": "display_data"
    }
   ],
   "source": [
    "data['Rating'].plot(kind='hist')"
   ]
  },
  {
   "cell_type": "markdown",
   "id": "1b650172",
   "metadata": {},
   "source": [
    "# Import Seaborn \n",
    "Another popular plotting library is Seaborn. In order to work with it, you'll need to import it: "
   ]
  },
  {
   "cell_type": "markdown",
   "id": "9c11d59b",
   "metadata": {},
   "source": [
    "Let's look at another plotting library—Seaborn. Seaborn is a Python data visualization library based on matplotlib. It provides a high-level interface for drawing attractive and informative statistical graphics."
   ]
  },
  {
   "cell_type": "markdown",
   "id": "61b249dd",
   "metadata": {},
   "source": [
    "Seaborn pairplot \n",
    "Note that you'll have to pass data into Seaborn a little differently, but you can still come up with a very cool graph: "
   ]
  },
  {
   "cell_type": "markdown",
   "id": "b91d0334",
   "metadata": {},
   "source": [
    "Note that it's a very similar plot as we got with Matplotlib, but there's an automatic linear regression that explains the data. \n",
    "\n",
    "Another cool thing that Seaborn can do is a pair plot, which automatically plots all of the number columns against each other: "
   ]
  },
  {
   "cell_type": "code",
   "execution_count": 10,
   "id": "cf1c2297",
   "metadata": {},
   "outputs": [],
   "source": [
    "import seaborn as sns"
   ]
  },
  {
   "cell_type": "code",
   "execution_count": 11,
   "id": "a82ebc8b",
   "metadata": {},
   "outputs": [
    {
     "data": {
      "text/plain": [
       "<seaborn.axisgrid.FacetGrid at 0x236e9a69460>"
      ]
     },
     "execution_count": 11,
     "metadata": {},
     "output_type": "execute_result"
    },
    {
     "data": {
      "image/png": "[encoded data removed]",
      "text/plain": [
       "<Figure size 360x360 with 1 Axes>"
      ]
     },
     "metadata": {
      "needs_background": "light"
     },
     "output_type": "display_data"
    }
   ],
   "source": [
    "sns.lmplot(x='Rating',y='Votes',data=data)"
   ]
  },
  {
   "cell_type": "code",
   "execution_count": 9,
   "id": "c290ee5b",
   "metadata": {},
   "outputs": [
    {
     "data": {
      "text/plain": [
       "<seaborn.axisgrid.PairGrid at 0x236e91a8610>"
      ]
     },
     "execution_count": 9,
     "metadata": {},
     "output_type": "execute_result"
    },
    {
     "data": {
      "image/png": "[encoded data removed]",
      "text/plain": [
       "<Figure size 540x540 with 12 Axes>"
      ]
     },
     "metadata": {
      "needs_background": "light"
     },
     "output_type": "display_data"
    }
   ],
   "source": [
    "sns.pairplot(data)"
   ]
  },
  {
   "cell_type": "markdown",
   "id": "63967bd0",
   "metadata": {},
   "source": [
    "# Ordinary Least Squares (OLS) Regression\n",
    "https://www.statsmodels.org/stable/index.html"
   ]
  },
  {
   "cell_type": "markdown",
   "id": "d345ae69",
   "metadata": {},
   "source": [
    "Now that we've visualized our data, we dig into an ordinary least squares (or OLS) regression. We use the StatsModels library to calculate this. StatsModels provides classes and functions for the estimation of many different statistical models, as well as for conducting statistical tests, and statistical data exploration.\n",
    "\n",
    "If your interested in calculating stats, there's a library that can help you do that called StatsModels. In this lesson let's work on an ordinary least squares (or OLS) regression. "
   ]
  },
  {
   "cell_type": "code",
   "execution_count": 12,
   "id": "f119502e",
   "metadata": {},
   "outputs": [],
   "source": [
    "import statsmodels.api as sm"
   ]
  },
  {
   "cell_type": "code",
   "execution_count": 14,
   "id": "984edcd7",
   "metadata": {},
   "outputs": [],
   "source": [
    "results = sm.OLS(data['Votes'], data['Rating']).fit()"
   ]
  },
  {
   "cell_type": "code",
   "execution_count": 16,
   "id": "6c83015d",
   "metadata": {},
   "outputs": [
    {
     "data": {
      "text/html": [
       "<table class=\"simpletable\">\n",
       "<caption>OLS Regression Results</caption>\n",
       "<tr>\n",
       "  <th>Dep. Variable:</th>          <td>Votes</td>      <th>  R-squared (uncentered):</th>       <td>   0.221</td>  \n",
       "</tr>\n",
       "<tr>\n",
       "  <th>Model:</th>                   <td>OLS</td>       <th>  Adj. R-squared (uncentered):</th>  <td>   0.220</td>  \n",
       "</tr>\n",
       "<tr>\n",
       "  <th>Method:</th>             <td>Least Squares</td>  <th>  F-statistic:       </th>           <td>   2829.</td>  \n",
       "</tr>\n",
       "<tr>\n",
       "  <th>Date:</th>             <td>Sun, 21 Aug 2022</td> <th>  Prob (F-statistic):</th>            <td>  0.00</td>   \n",
       "</tr>\n",
       "<tr>\n",
       "  <th>Time:</th>                 <td>18:29:45</td>     <th>  Log-Likelihood:    </th>          <td>-1.1849e+05</td>\n",
       "</tr>\n",
       "<tr>\n",
       "  <th>No. Observations:</th>      <td> 10000</td>      <th>  AIC:               </th>           <td>2.370e+05</td> \n",
       "</tr>\n",
       "<tr>\n",
       "  <th>Df Residuals:</th>          <td>  9999</td>      <th>  BIC:               </th>           <td>2.370e+05</td> \n",
       "</tr>\n",
       "<tr>\n",
       "  <th>Df Model:</th>              <td>     1</td>      <th>                     </th>               <td> </td>     \n",
       "</tr>\n",
       "<tr>\n",
       "  <th>Covariance Type:</th>      <td>nonrobust</td>    <th>                     </th>               <td> </td>     \n",
       "</tr>\n",
       "</table>\n",
       "<table class=\"simpletable\">\n",
       "<tr>\n",
       "     <td></td>       <th>coef</th>     <th>std err</th>      <th>t</th>      <th>P>|t|</th>  <th>[0.025</th>    <th>0.975]</th>  \n",
       "</tr>\n",
       "<tr>\n",
       "  <th>Rating</th> <td> 2771.9868</td> <td>   52.115</td> <td>   53.190</td> <td> 0.000</td> <td> 2669.831</td> <td> 2874.143</td>\n",
       "</tr>\n",
       "</table>\n",
       "<table class=\"simpletable\">\n",
       "<tr>\n",
       "  <th>Omnibus:</th>       <td>11448.927</td> <th>  Durbin-Watson:     </th>  <td>   0.030</td>  \n",
       "</tr>\n",
       "<tr>\n",
       "  <th>Prob(Omnibus):</th>  <td> 0.000</td>   <th>  Jarque-Bera (JB):  </th> <td>1297144.076</td>\n",
       "</tr>\n",
       "<tr>\n",
       "  <th>Skew:</th>           <td> 5.966</td>   <th>  Prob(JB):          </th>  <td>    0.00</td>  \n",
       "</tr>\n",
       "<tr>\n",
       "  <th>Kurtosis:</th>       <td>57.505</td>   <th>  Cond. No.          </th>  <td>    1.00</td>  \n",
       "</tr>\n",
       "</table><br/><br/>Notes:<br/>[1] R² is computed without centering (uncentered) since the model does not contain a constant.<br/>[2] Standard Errors assume that the covariance matrix of the errors is correctly specified."
      ],
      "text/plain": [
       "<class 'statsmodels.iolib.summary.Summary'>\n",
       "\"\"\"\n",
       "                                 OLS Regression Results                                \n",
       "=======================================================================================\n",
       "Dep. Variable:                  Votes   R-squared (uncentered):                   0.221\n",
       "Model:                            OLS   Adj. R-squared (uncentered):              0.220\n",
       "Method:                 Least Squares   F-statistic:                              2829.\n",
       "Date:                Sun, 21 Aug 2022   Prob (F-statistic):                        0.00\n",
       "Time:                        18:29:45   Log-Likelihood:                     -1.1849e+05\n",
       "No. Observations:               10000   AIC:                                  2.370e+05\n",
       "Df Residuals:                    9999   BIC:                                  2.370e+05\n",
       "Df Model:                           1                                                  \n",
       "Covariance Type:            nonrobust                                                  \n",
       "==============================================================================\n",
       "                 coef    std err          t      P>|t|      [0.025      0.975]\n",
       "------------------------------------------------------------------------------\n",
       "Rating      2771.9868     52.115     53.190      0.000    2669.831    2874.143\n",
       "==============================================================================\n",
       "Omnibus:                    11448.927   Durbin-Watson:                   0.030\n",
       "Prob(Omnibus):                  0.000   Jarque-Bera (JB):          1297144.076\n",
       "Skew:                           5.966   Prob(JB):                         0.00\n",
       "Kurtosis:                      57.505   Cond. No.                         1.00\n",
       "==============================================================================\n",
       "\n",
       "Notes:\n",
       "[1] R² is computed without centering (uncentered) since the model does not contain a constant.\n",
       "[2] Standard Errors assume that the covariance matrix of the errors is correctly specified.\n",
       "\"\"\""
      ]
     },
     "execution_count": 16,
     "metadata": {},
     "output_type": "execute_result"
    }
   ],
   "source": [
    "results.summary()"
   ]
  },
  {
   "cell_type": "markdown",
   "id": "c56cec53",
   "metadata": {},
   "source": [
    "# Advance Data Selection"
   ]
  },
  {
   "cell_type": "code",
   "execution_count": 18,
   "id": "fd7de335",
   "metadata": {},
   "outputs": [
    {
     "data": {
      "text/html": [
       "<div>\n",
       "<style scoped>\n",
       "    .dataframe tbody tr th:only-of-type {\n",
       "        vertical-align: middle;\n",
       "    }\n",
       "\n",
       "    .dataframe tbody tr th {\n",
       "        vertical-align: top;\n",
       "    }\n",
       "\n",
       "    .dataframe thead th {\n",
       "        text-align: right;\n",
       "    }\n",
       "</style>\n",
       "<table border=\"1\" class=\"dataframe\">\n",
       "  <thead>\n",
       "    <tr style=\"text-align: right;\">\n",
       "      <th></th>\n",
       "      <th>Title</th>\n",
       "      <th>Year</th>\n",
       "      <th>Rating</th>\n",
       "      <th>Votes</th>\n",
       "      <th>Length</th>\n",
       "      <th>Genres</th>\n",
       "    </tr>\n",
       "    <tr>\n",
       "      <th>Id</th>\n",
       "      <th></th>\n",
       "      <th></th>\n",
       "      <th></th>\n",
       "      <th></th>\n",
       "      <th></th>\n",
       "      <th></th>\n",
       "    </tr>\n",
       "  </thead>\n",
       "  <tbody>\n",
       "    <tr>\n",
       "      <th>tt0137523</th>\n",
       "      <td>Fight Club (1999)</td>\n",
       "      <td>1999</td>\n",
       "      <td>8.8</td>\n",
       "      <td>458173</td>\n",
       "      <td>139 mins.</td>\n",
       "      <td>Drama|Mystery|Thriller</td>\n",
       "    </tr>\n",
       "    <tr>\n",
       "      <th>tt0133093</th>\n",
       "      <td>The Matrix (1999)</td>\n",
       "      <td>1999</td>\n",
       "      <td>8.7</td>\n",
       "      <td>448114</td>\n",
       "      <td>136 mins.</td>\n",
       "      <td>Action|Adventure|Sci-Fi</td>\n",
       "    </tr>\n",
       "    <tr>\n",
       "      <th>tt1375666</th>\n",
       "      <td>Inception (2010)</td>\n",
       "      <td>2010</td>\n",
       "      <td>8.9</td>\n",
       "      <td>385149</td>\n",
       "      <td>148 mins.</td>\n",
       "      <td>Action|Adventure|Sci-Fi|Thriller</td>\n",
       "    </tr>\n",
       "    <tr>\n",
       "      <th>tt0169547</th>\n",
       "      <td>American Beauty (1999)</td>\n",
       "      <td>1999</td>\n",
       "      <td>8.6</td>\n",
       "      <td>338332</td>\n",
       "      <td>122 mins.</td>\n",
       "      <td>Drama</td>\n",
       "    </tr>\n",
       "    <tr>\n",
       "      <th>tt0499549</th>\n",
       "      <td>Avatar (2009)</td>\n",
       "      <td>2009</td>\n",
       "      <td>8.1</td>\n",
       "      <td>336855</td>\n",
       "      <td>162 mins.</td>\n",
       "      <td>Action|Adventure|Fantasy|Sci-Fi</td>\n",
       "    </tr>\n",
       "    <tr>\n",
       "      <th>...</th>\n",
       "      <td>...</td>\n",
       "      <td>...</td>\n",
       "      <td>...</td>\n",
       "      <td>...</td>\n",
       "      <td>...</td>\n",
       "      <td>...</td>\n",
       "    </tr>\n",
       "    <tr>\n",
       "      <th>tt0118635</th>\n",
       "      <td>Aprile (1998)</td>\n",
       "      <td>1998</td>\n",
       "      <td>6.7</td>\n",
       "      <td>1358</td>\n",
       "      <td>78 mins.</td>\n",
       "      <td>Comedy</td>\n",
       "    </tr>\n",
       "    <tr>\n",
       "      <th>tt0807721</th>\n",
       "      <td>Meduzot (2007)</td>\n",
       "      <td>2007</td>\n",
       "      <td>7.0</td>\n",
       "      <td>1357</td>\n",
       "      <td>78 mins.</td>\n",
       "      <td>Drama</td>\n",
       "    </tr>\n",
       "    <tr>\n",
       "      <th>tt0339642</th>\n",
       "      <td>Daltry Calhoun (2005)</td>\n",
       "      <td>2005</td>\n",
       "      <td>5.2</td>\n",
       "      <td>1357</td>\n",
       "      <td>100 mins.</td>\n",
       "      <td>Comedy|Drama|Music|Romance</td>\n",
       "    </tr>\n",
       "    <tr>\n",
       "      <th>tt0152836</th>\n",
       "      <td>Taal (1999)</td>\n",
       "      <td>1999</td>\n",
       "      <td>6.5</td>\n",
       "      <td>1356</td>\n",
       "      <td>179 mins.</td>\n",
       "      <td>Musical|Romance</td>\n",
       "    </tr>\n",
       "    <tr>\n",
       "      <th>tt0279977</th>\n",
       "      <td>The Navigators (2001)</td>\n",
       "      <td>2001</td>\n",
       "      <td>6.9</td>\n",
       "      <td>1356</td>\n",
       "      <td>96 mins.</td>\n",
       "      <td>Comedy|Drama</td>\n",
       "    </tr>\n",
       "  </tbody>\n",
       "</table>\n",
       "<p>5710 rows × 6 columns</p>\n",
       "</div>"
      ],
      "text/plain": [
       "                            Title  Year  Rating   Votes     Length  \\\n",
       "Id                                                                   \n",
       "tt0137523       Fight Club (1999)  1999     8.8  458173  139 mins.   \n",
       "tt0133093       The Matrix (1999)  1999     8.7  448114  136 mins.   \n",
       "tt1375666        Inception (2010)  2010     8.9  385149  148 mins.   \n",
       "tt0169547  American Beauty (1999)  1999     8.6  338332  122 mins.   \n",
       "tt0499549           Avatar (2009)  2009     8.1  336855  162 mins.   \n",
       "...                           ...   ...     ...     ...        ...   \n",
       "tt0118635           Aprile (1998)  1998     6.7    1358   78 mins.   \n",
       "tt0807721          Meduzot (2007)  2007     7.0    1357   78 mins.   \n",
       "tt0339642   Daltry Calhoun (2005)  2005     5.2    1357  100 mins.   \n",
       "tt0152836             Taal (1999)  1999     6.5    1356  179 mins.   \n",
       "tt0279977   The Navigators (2001)  2001     6.9    1356   96 mins.   \n",
       "\n",
       "                                     Genres  \n",
       "Id                                           \n",
       "tt0137523            Drama|Mystery|Thriller  \n",
       "tt0133093           Action|Adventure|Sci-Fi  \n",
       "tt1375666  Action|Adventure|Sci-Fi|Thriller  \n",
       "tt0169547                             Drama  \n",
       "tt0499549   Action|Adventure|Fantasy|Sci-Fi  \n",
       "...                                     ...  \n",
       "tt0118635                            Comedy  \n",
       "tt0807721                             Drama  \n",
       "tt0339642        Comedy|Drama|Music|Romance  \n",
       "tt0152836                   Musical|Romance  \n",
       "tt0279977                      Comedy|Drama  \n",
       "\n",
       "[5710 rows x 6 columns]"
      ]
     },
     "execution_count": 18,
     "metadata": {},
     "output_type": "execute_result"
    }
   ],
   "source": [
    "data[data['Year'] > 1995]"
   ]
  },
  {
   "cell_type": "code",
   "execution_count": 19,
   "id": "e512adac",
   "metadata": {},
   "outputs": [
    {
     "data": {
      "text/plain": [
       "Id\n",
       "tt0111161    False\n",
       "tt0110912    False\n",
       "tt0137523     True\n",
       "tt0133093     True\n",
       "tt1375666     True\n",
       "             ...  \n",
       "tt0807721     True\n",
       "tt0339642     True\n",
       "tt0060880    False\n",
       "tt0152836     True\n",
       "tt0279977     True\n",
       "Name: Year, Length: 10000, dtype: bool"
      ]
     },
     "execution_count": 19,
     "metadata": {},
     "output_type": "execute_result"
    }
   ],
   "source": [
    "data['Year'] > 1995"
   ]
  },
  {
   "cell_type": "code",
   "execution_count": 21,
   "id": "2a67f604",
   "metadata": {},
   "outputs": [
    {
     "data": {
      "text/html": [
       "<div>\n",
       "<style scoped>\n",
       "    .dataframe tbody tr th:only-of-type {\n",
       "        vertical-align: middle;\n",
       "    }\n",
       "\n",
       "    .dataframe tbody tr th {\n",
       "        vertical-align: top;\n",
       "    }\n",
       "\n",
       "    .dataframe thead th {\n",
       "        text-align: right;\n",
       "    }\n",
       "</style>\n",
       "<table border=\"1\" class=\"dataframe\">\n",
       "  <thead>\n",
       "    <tr style=\"text-align: right;\">\n",
       "      <th></th>\n",
       "      <th>Title</th>\n",
       "      <th>Year</th>\n",
       "      <th>Rating</th>\n",
       "      <th>Votes</th>\n",
       "      <th>Length</th>\n",
       "      <th>Genres</th>\n",
       "    </tr>\n",
       "    <tr>\n",
       "      <th>Id</th>\n",
       "      <th></th>\n",
       "      <th></th>\n",
       "      <th></th>\n",
       "      <th></th>\n",
       "      <th></th>\n",
       "      <th></th>\n",
       "    </tr>\n",
       "  </thead>\n",
       "  <tbody>\n",
       "    <tr>\n",
       "      <th>tt0060196</th>\n",
       "      <td>The Good, the Bad and the Ugly (1966)</td>\n",
       "      <td>1966</td>\n",
       "      <td>9.0</td>\n",
       "      <td>195238</td>\n",
       "      <td>161 mins.</td>\n",
       "      <td>Western</td>\n",
       "    </tr>\n",
       "    <tr>\n",
       "      <th>tt0061184</th>\n",
       "      <td>Who's Afraid of Virginia Woolf? (1966)</td>\n",
       "      <td>1966</td>\n",
       "      <td>8.2</td>\n",
       "      <td>23811</td>\n",
       "      <td>131 mins.</td>\n",
       "      <td>Drama</td>\n",
       "    </tr>\n",
       "    <tr>\n",
       "      <th>tt0060666</th>\n",
       "      <td>Manos: The Hands of Fate (1966)</td>\n",
       "      <td>1966</td>\n",
       "      <td>1.5</td>\n",
       "      <td>20927</td>\n",
       "      <td>74 mins.</td>\n",
       "      <td>Horror</td>\n",
       "    </tr>\n",
       "    <tr>\n",
       "      <th>tt0060827</th>\n",
       "      <td>Persona (1966)</td>\n",
       "      <td>1966</td>\n",
       "      <td>8.2</td>\n",
       "      <td>20157</td>\n",
       "      <td>85 mins.</td>\n",
       "      <td>Drama|Fantasy</td>\n",
       "    </tr>\n",
       "    <tr>\n",
       "      <th>tt0060176</th>\n",
       "      <td>Blow-Up (1966)</td>\n",
       "      <td>1966</td>\n",
       "      <td>7.6</td>\n",
       "      <td>18679</td>\n",
       "      <td>111 mins.</td>\n",
       "      <td>Drama|Mystery|Thriller</td>\n",
       "    </tr>\n",
       "    <tr>\n",
       "      <th>...</th>\n",
       "      <td>...</td>\n",
       "      <td>...</td>\n",
       "      <td>...</td>\n",
       "      <td>...</td>\n",
       "      <td>...</td>\n",
       "      <td>...</td>\n",
       "    </tr>\n",
       "    <tr>\n",
       "      <th>tt0060214</th>\n",
       "      <td>Carry on Screaming! (1966)</td>\n",
       "      <td>1966</td>\n",
       "      <td>6.7</td>\n",
       "      <td>1427</td>\n",
       "      <td>97 mins.</td>\n",
       "      <td>Comedy|Horror</td>\n",
       "    </tr>\n",
       "    <tr>\n",
       "      <th>tt0060305</th>\n",
       "      <td>Le Deuxieme Souffle (1966)</td>\n",
       "      <td>1966</td>\n",
       "      <td>8.0</td>\n",
       "      <td>1393</td>\n",
       "      <td>150 mins.</td>\n",
       "      <td>Crime|Drama</td>\n",
       "    </tr>\n",
       "    <tr>\n",
       "      <th>tt0060841</th>\n",
       "      <td>The Plague of the Zombies (1966)</td>\n",
       "      <td>1966</td>\n",
       "      <td>6.7</td>\n",
       "      <td>1386</td>\n",
       "      <td>91 mins.</td>\n",
       "      <td>Horror</td>\n",
       "    </tr>\n",
       "    <tr>\n",
       "      <th>tt0061204</th>\n",
       "      <td>The Wrong Box (1966)</td>\n",
       "      <td>1966</td>\n",
       "      <td>6.9</td>\n",
       "      <td>1372</td>\n",
       "      <td>105 mins.</td>\n",
       "      <td>Comedy</td>\n",
       "    </tr>\n",
       "    <tr>\n",
       "      <th>tt0060880</th>\n",
       "      <td>The Quiller Memorandum (1966)</td>\n",
       "      <td>1966</td>\n",
       "      <td>6.5</td>\n",
       "      <td>1356</td>\n",
       "      <td>104 mins.</td>\n",
       "      <td>Drama|Mystery|Thriller</td>\n",
       "    </tr>\n",
       "  </tbody>\n",
       "</table>\n",
       "<p>69 rows × 6 columns</p>\n",
       "</div>"
      ],
      "text/plain": [
       "                                            Title  Year  Rating   Votes  \\\n",
       "Id                                                                        \n",
       "tt0060196   The Good, the Bad and the Ugly (1966)  1966     9.0  195238   \n",
       "tt0061184  Who's Afraid of Virginia Woolf? (1966)  1966     8.2   23811   \n",
       "tt0060666         Manos: The Hands of Fate (1966)  1966     1.5   20927   \n",
       "tt0060827                          Persona (1966)  1966     8.2   20157   \n",
       "tt0060176                          Blow-Up (1966)  1966     7.6   18679   \n",
       "...                                           ...   ...     ...     ...   \n",
       "tt0060214              Carry on Screaming! (1966)  1966     6.7    1427   \n",
       "tt0060305              Le Deuxieme Souffle (1966)  1966     8.0    1393   \n",
       "tt0060841        The Plague of the Zombies (1966)  1966     6.7    1386   \n",
       "tt0061204                    The Wrong Box (1966)  1966     6.9    1372   \n",
       "tt0060880           The Quiller Memorandum (1966)  1966     6.5    1356   \n",
       "\n",
       "              Length                  Genres  \n",
       "Id                                            \n",
       "tt0060196  161 mins.                 Western  \n",
       "tt0061184  131 mins.                   Drama  \n",
       "tt0060666   74 mins.                  Horror  \n",
       "tt0060827   85 mins.           Drama|Fantasy  \n",
       "tt0060176  111 mins.  Drama|Mystery|Thriller  \n",
       "...              ...                     ...  \n",
       "tt0060214   97 mins.           Comedy|Horror  \n",
       "tt0060305  150 mins.             Crime|Drama  \n",
       "tt0060841   91 mins.                  Horror  \n",
       "tt0061204  105 mins.                  Comedy  \n",
       "tt0060880  104 mins.  Drama|Mystery|Thriller  \n",
       "\n",
       "[69 rows x 6 columns]"
      ]
     },
     "execution_count": 21,
     "metadata": {},
     "output_type": "execute_result"
    }
   ],
   "source": [
    "data[data['Year'] == 1966]"
   ]
  },
  {
   "cell_type": "code",
   "execution_count": 22,
   "id": "9cfe14f2",
   "metadata": {},
   "outputs": [
    {
     "data": {
      "text/html": [
       "<div>\n",
       "<style scoped>\n",
       "    .dataframe tbody tr th:only-of-type {\n",
       "        vertical-align: middle;\n",
       "    }\n",
       "\n",
       "    .dataframe tbody tr th {\n",
       "        vertical-align: top;\n",
       "    }\n",
       "\n",
       "    .dataframe thead th {\n",
       "        text-align: right;\n",
       "    }\n",
       "</style>\n",
       "<table border=\"1\" class=\"dataframe\">\n",
       "  <thead>\n",
       "    <tr style=\"text-align: right;\">\n",
       "      <th></th>\n",
       "      <th>Title</th>\n",
       "      <th>Year</th>\n",
       "      <th>Rating</th>\n",
       "      <th>Votes</th>\n",
       "      <th>Length</th>\n",
       "      <th>Genres</th>\n",
       "    </tr>\n",
       "    <tr>\n",
       "      <th>Id</th>\n",
       "      <th></th>\n",
       "      <th></th>\n",
       "      <th></th>\n",
       "      <th></th>\n",
       "      <th></th>\n",
       "      <th></th>\n",
       "    </tr>\n",
       "  </thead>\n",
       "  <tbody>\n",
       "    <tr>\n",
       "      <th>tt0137523</th>\n",
       "      <td>Fight Club (1999)</td>\n",
       "      <td>1999</td>\n",
       "      <td>8.8</td>\n",
       "      <td>458173</td>\n",
       "      <td>139 mins.</td>\n",
       "      <td>Drama|Mystery|Thriller</td>\n",
       "    </tr>\n",
       "    <tr>\n",
       "      <th>tt0133093</th>\n",
       "      <td>The Matrix (1999)</td>\n",
       "      <td>1999</td>\n",
       "      <td>8.7</td>\n",
       "      <td>448114</td>\n",
       "      <td>136 mins.</td>\n",
       "      <td>Action|Adventure|Sci-Fi</td>\n",
       "    </tr>\n",
       "    <tr>\n",
       "      <th>tt0169547</th>\n",
       "      <td>American Beauty (1999)</td>\n",
       "      <td>1999</td>\n",
       "      <td>8.6</td>\n",
       "      <td>338332</td>\n",
       "      <td>122 mins.</td>\n",
       "      <td>Drama</td>\n",
       "    </tr>\n",
       "    <tr>\n",
       "      <th>tt0120338</th>\n",
       "      <td>Titanic (1997)</td>\n",
       "      <td>1997</td>\n",
       "      <td>7.4</td>\n",
       "      <td>284245</td>\n",
       "      <td>194 mins.</td>\n",
       "      <td>Adventure|Drama|History|Romance</td>\n",
       "    </tr>\n",
       "    <tr>\n",
       "      <th>tt0167404</th>\n",
       "      <td>The Sixth Sense (1999)</td>\n",
       "      <td>1999</td>\n",
       "      <td>8.2</td>\n",
       "      <td>278210</td>\n",
       "      <td>107 mins.</td>\n",
       "      <td>Drama|Mystery|Thriller</td>\n",
       "    </tr>\n",
       "    <tr>\n",
       "      <th>...</th>\n",
       "      <td>...</td>\n",
       "      <td>...</td>\n",
       "      <td>...</td>\n",
       "      <td>...</td>\n",
       "      <td>...</td>\n",
       "      <td>...</td>\n",
       "    </tr>\n",
       "    <tr>\n",
       "      <th>tt0117690</th>\n",
       "      <td>Some Mother's Son (1996)</td>\n",
       "      <td>1996</td>\n",
       "      <td>7.3</td>\n",
       "      <td>1371</td>\n",
       "      <td>112 mins.</td>\n",
       "      <td>Drama</td>\n",
       "    </tr>\n",
       "    <tr>\n",
       "      <th>tt0289424</th>\n",
       "      <td>The Ring Virus (1999)</td>\n",
       "      <td>1999</td>\n",
       "      <td>6.5</td>\n",
       "      <td>1371</td>\n",
       "      <td>108 mins.</td>\n",
       "      <td>Horror</td>\n",
       "    </tr>\n",
       "    <tr>\n",
       "      <th>tt0197094</th>\n",
       "      <td>What Becomes of the Broken Hearted? (1999)</td>\n",
       "      <td>1999</td>\n",
       "      <td>6.3</td>\n",
       "      <td>1365</td>\n",
       "      <td>00 mins.</td>\n",
       "      <td>Drama</td>\n",
       "    </tr>\n",
       "    <tr>\n",
       "      <th>tt0118635</th>\n",
       "      <td>Aprile (1998)</td>\n",
       "      <td>1998</td>\n",
       "      <td>6.7</td>\n",
       "      <td>1358</td>\n",
       "      <td>78 mins.</td>\n",
       "      <td>Comedy</td>\n",
       "    </tr>\n",
       "    <tr>\n",
       "      <th>tt0152836</th>\n",
       "      <td>Taal (1999)</td>\n",
       "      <td>1999</td>\n",
       "      <td>6.5</td>\n",
       "      <td>1356</td>\n",
       "      <td>179 mins.</td>\n",
       "      <td>Musical|Romance</td>\n",
       "    </tr>\n",
       "  </tbody>\n",
       "</table>\n",
       "<p>1123 rows × 6 columns</p>\n",
       "</div>"
      ],
      "text/plain": [
       "                                                Title  Year  Rating   Votes  \\\n",
       "Id                                                                            \n",
       "tt0137523                           Fight Club (1999)  1999     8.8  458173   \n",
       "tt0133093                           The Matrix (1999)  1999     8.7  448114   \n",
       "tt0169547                      American Beauty (1999)  1999     8.6  338332   \n",
       "tt0120338                              Titanic (1997)  1997     7.4  284245   \n",
       "tt0167404                      The Sixth Sense (1999)  1999     8.2  278210   \n",
       "...                                               ...   ...     ...     ...   \n",
       "tt0117690                    Some Mother's Son (1996)  1996     7.3    1371   \n",
       "tt0289424                       The Ring Virus (1999)  1999     6.5    1371   \n",
       "tt0197094  What Becomes of the Broken Hearted? (1999)  1999     6.3    1365   \n",
       "tt0118635                               Aprile (1998)  1998     6.7    1358   \n",
       "tt0152836                                 Taal (1999)  1999     6.5    1356   \n",
       "\n",
       "              Length                           Genres  \n",
       "Id                                                     \n",
       "tt0137523  139 mins.           Drama|Mystery|Thriller  \n",
       "tt0133093  136 mins.          Action|Adventure|Sci-Fi  \n",
       "tt0169547  122 mins.                            Drama  \n",
       "tt0120338  194 mins.  Adventure|Drama|History|Romance  \n",
       "tt0167404  107 mins.           Drama|Mystery|Thriller  \n",
       "...              ...                              ...  \n",
       "tt0117690  112 mins.                            Drama  \n",
       "tt0289424  108 mins.                           Horror  \n",
       "tt0197094   00 mins.                            Drama  \n",
       "tt0118635   78 mins.                           Comedy  \n",
       "tt0152836  179 mins.                  Musical|Romance  \n",
       "\n",
       "[1123 rows x 6 columns]"
      ]
     },
     "execution_count": 22,
     "metadata": {},
     "output_type": "execute_result"
    }
   ],
   "source": [
    "data[(data['Year'] > 1995) & (data['Year'] < 2000)]"
   ]
  },
  {
   "cell_type": "code",
   "execution_count": 23,
   "id": "7aaf294e",
   "metadata": {},
   "outputs": [
    {
     "data": {
      "text/html": [
       "<div>\n",
       "<style scoped>\n",
       "    .dataframe tbody tr th:only-of-type {\n",
       "        vertical-align: middle;\n",
       "    }\n",
       "\n",
       "    .dataframe tbody tr th {\n",
       "        vertical-align: top;\n",
       "    }\n",
       "\n",
       "    .dataframe thead th {\n",
       "        text-align: right;\n",
       "    }\n",
       "</style>\n",
       "<table border=\"1\" class=\"dataframe\">\n",
       "  <thead>\n",
       "    <tr style=\"text-align: right;\">\n",
       "      <th></th>\n",
       "      <th>Title</th>\n",
       "      <th>Year</th>\n",
       "      <th>Rating</th>\n",
       "      <th>Votes</th>\n",
       "      <th>Length</th>\n",
       "      <th>Genres</th>\n",
       "    </tr>\n",
       "    <tr>\n",
       "      <th>Id</th>\n",
       "      <th></th>\n",
       "      <th></th>\n",
       "      <th></th>\n",
       "      <th></th>\n",
       "      <th></th>\n",
       "      <th></th>\n",
       "    </tr>\n",
       "  </thead>\n",
       "  <tbody>\n",
       "    <tr>\n",
       "      <th>tt0111161</th>\n",
       "      <td>The Shawshank Redemption (1994)</td>\n",
       "      <td>1994</td>\n",
       "      <td>9.2</td>\n",
       "      <td>619479</td>\n",
       "      <td>142 mins.</td>\n",
       "      <td>Crime|Drama</td>\n",
       "    </tr>\n",
       "    <tr>\n",
       "      <th>tt0110912</th>\n",
       "      <td>Pulp Fiction (1994)</td>\n",
       "      <td>1994</td>\n",
       "      <td>9.0</td>\n",
       "      <td>490065</td>\n",
       "      <td>154 mins.</td>\n",
       "      <td>Crime|Thriller</td>\n",
       "    </tr>\n",
       "    <tr>\n",
       "      <th>tt0137523</th>\n",
       "      <td>Fight Club (1999)</td>\n",
       "      <td>1999</td>\n",
       "      <td>8.8</td>\n",
       "      <td>458173</td>\n",
       "      <td>139 mins.</td>\n",
       "      <td>Drama|Mystery|Thriller</td>\n",
       "    </tr>\n",
       "    <tr>\n",
       "      <th>tt0133093</th>\n",
       "      <td>The Matrix (1999)</td>\n",
       "      <td>1999</td>\n",
       "      <td>8.7</td>\n",
       "      <td>448114</td>\n",
       "      <td>136 mins.</td>\n",
       "      <td>Action|Adventure|Sci-Fi</td>\n",
       "    </tr>\n",
       "    <tr>\n",
       "      <th>tt1375666</th>\n",
       "      <td>Inception (2010)</td>\n",
       "      <td>2010</td>\n",
       "      <td>8.9</td>\n",
       "      <td>385149</td>\n",
       "      <td>148 mins.</td>\n",
       "      <td>Action|Adventure|Sci-Fi|Thriller</td>\n",
       "    </tr>\n",
       "    <tr>\n",
       "      <th>...</th>\n",
       "      <td>...</td>\n",
       "      <td>...</td>\n",
       "      <td>...</td>\n",
       "      <td>...</td>\n",
       "      <td>...</td>\n",
       "      <td>...</td>\n",
       "    </tr>\n",
       "    <tr>\n",
       "      <th>tt0807721</th>\n",
       "      <td>Meduzot (2007)</td>\n",
       "      <td>2007</td>\n",
       "      <td>7.0</td>\n",
       "      <td>1357</td>\n",
       "      <td>78 mins.</td>\n",
       "      <td>Drama</td>\n",
       "    </tr>\n",
       "    <tr>\n",
       "      <th>tt0339642</th>\n",
       "      <td>Daltry Calhoun (2005)</td>\n",
       "      <td>2005</td>\n",
       "      <td>5.2</td>\n",
       "      <td>1357</td>\n",
       "      <td>100 mins.</td>\n",
       "      <td>Comedy|Drama|Music|Romance</td>\n",
       "    </tr>\n",
       "    <tr>\n",
       "      <th>tt0060880</th>\n",
       "      <td>The Quiller Memorandum (1966)</td>\n",
       "      <td>1966</td>\n",
       "      <td>6.5</td>\n",
       "      <td>1356</td>\n",
       "      <td>104 mins.</td>\n",
       "      <td>Drama|Mystery|Thriller</td>\n",
       "    </tr>\n",
       "    <tr>\n",
       "      <th>tt0152836</th>\n",
       "      <td>Taal (1999)</td>\n",
       "      <td>1999</td>\n",
       "      <td>6.5</td>\n",
       "      <td>1356</td>\n",
       "      <td>179 mins.</td>\n",
       "      <td>Musical|Romance</td>\n",
       "    </tr>\n",
       "    <tr>\n",
       "      <th>tt0279977</th>\n",
       "      <td>The Navigators (2001)</td>\n",
       "      <td>2001</td>\n",
       "      <td>6.9</td>\n",
       "      <td>1356</td>\n",
       "      <td>96 mins.</td>\n",
       "      <td>Comedy|Drama</td>\n",
       "    </tr>\n",
       "  </tbody>\n",
       "</table>\n",
       "<p>10000 rows × 6 columns</p>\n",
       "</div>"
      ],
      "text/plain": [
       "                                     Title  Year  Rating   Votes     Length  \\\n",
       "Id                                                                            \n",
       "tt0111161  The Shawshank Redemption (1994)  1994     9.2  619479  142 mins.   \n",
       "tt0110912              Pulp Fiction (1994)  1994     9.0  490065  154 mins.   \n",
       "tt0137523                Fight Club (1999)  1999     8.8  458173  139 mins.   \n",
       "tt0133093                The Matrix (1999)  1999     8.7  448114  136 mins.   \n",
       "tt1375666                 Inception (2010)  2010     8.9  385149  148 mins.   \n",
       "...                                    ...   ...     ...     ...        ...   \n",
       "tt0807721                   Meduzot (2007)  2007     7.0    1357   78 mins.   \n",
       "tt0339642            Daltry Calhoun (2005)  2005     5.2    1357  100 mins.   \n",
       "tt0060880    The Quiller Memorandum (1966)  1966     6.5    1356  104 mins.   \n",
       "tt0152836                      Taal (1999)  1999     6.5    1356  179 mins.   \n",
       "tt0279977            The Navigators (2001)  2001     6.9    1356   96 mins.   \n",
       "\n",
       "                                     Genres  \n",
       "Id                                           \n",
       "tt0111161                       Crime|Drama  \n",
       "tt0110912                    Crime|Thriller  \n",
       "tt0137523            Drama|Mystery|Thriller  \n",
       "tt0133093           Action|Adventure|Sci-Fi  \n",
       "tt1375666  Action|Adventure|Sci-Fi|Thriller  \n",
       "...                                     ...  \n",
       "tt0807721                             Drama  \n",
       "tt0339642        Comedy|Drama|Music|Romance  \n",
       "tt0060880            Drama|Mystery|Thriller  \n",
       "tt0152836                   Musical|Romance  \n",
       "tt0279977                      Comedy|Drama  \n",
       "\n",
       "[10000 rows x 6 columns]"
      ]
     },
     "execution_count": 23,
     "metadata": {},
     "output_type": "execute_result"
    }
   ],
   "source": [
    "data[(data['Year'] > 1995) | (data['Year'] < 2000)]"
   ]
  },
  {
   "cell_type": "code",
   "execution_count": 24,
   "id": "483d990e",
   "metadata": {},
   "outputs": [
    {
     "data": {
      "text/html": [
       "<div>\n",
       "<style scoped>\n",
       "    .dataframe tbody tr th:only-of-type {\n",
       "        vertical-align: middle;\n",
       "    }\n",
       "\n",
       "    .dataframe tbody tr th {\n",
       "        vertical-align: top;\n",
       "    }\n",
       "\n",
       "    .dataframe thead th {\n",
       "        text-align: right;\n",
       "    }\n",
       "</style>\n",
       "<table border=\"1\" class=\"dataframe\">\n",
       "  <thead>\n",
       "    <tr style=\"text-align: right;\">\n",
       "      <th></th>\n",
       "      <th>Title</th>\n",
       "      <th>Year</th>\n",
       "      <th>Rating</th>\n",
       "      <th>Votes</th>\n",
       "      <th>Length</th>\n",
       "      <th>Genres</th>\n",
       "    </tr>\n",
       "    <tr>\n",
       "      <th>Id</th>\n",
       "      <th></th>\n",
       "      <th></th>\n",
       "      <th></th>\n",
       "      <th></th>\n",
       "      <th></th>\n",
       "      <th></th>\n",
       "    </tr>\n",
       "  </thead>\n",
       "  <tbody>\n",
       "    <tr>\n",
       "      <th>tt0137523</th>\n",
       "      <td>Fight Club (1999)</td>\n",
       "      <td>1999</td>\n",
       "      <td>8.8</td>\n",
       "      <td>458173</td>\n",
       "      <td>139 mins.</td>\n",
       "      <td>Drama|Mystery|Thriller</td>\n",
       "    </tr>\n",
       "    <tr>\n",
       "      <th>tt0133093</th>\n",
       "      <td>The Matrix (1999)</td>\n",
       "      <td>1999</td>\n",
       "      <td>8.7</td>\n",
       "      <td>448114</td>\n",
       "      <td>136 mins.</td>\n",
       "      <td>Action|Adventure|Sci-Fi</td>\n",
       "    </tr>\n",
       "    <tr>\n",
       "      <th>tt0120586</th>\n",
       "      <td>American History X (1998)</td>\n",
       "      <td>1998</td>\n",
       "      <td>8.6</td>\n",
       "      <td>270082</td>\n",
       "      <td>119 mins.</td>\n",
       "      <td>Crime|Drama</td>\n",
       "    </tr>\n",
       "    <tr>\n",
       "      <th>tt0169547</th>\n",
       "      <td>American Beauty (1999)</td>\n",
       "      <td>1999</td>\n",
       "      <td>8.6</td>\n",
       "      <td>338332</td>\n",
       "      <td>122 mins.</td>\n",
       "      <td>Drama</td>\n",
       "    </tr>\n",
       "    <tr>\n",
       "      <th>tt0118799</th>\n",
       "      <td>Life Is Beautiful (1997)</td>\n",
       "      <td>1997</td>\n",
       "      <td>8.5</td>\n",
       "      <td>131578</td>\n",
       "      <td>116 mins.</td>\n",
       "      <td>Comedy|Drama|Romance|War</td>\n",
       "    </tr>\n",
       "    <tr>\n",
       "      <th>tt0120815</th>\n",
       "      <td>Saving Private Ryan (1998)</td>\n",
       "      <td>1998</td>\n",
       "      <td>8.5</td>\n",
       "      <td>317912</td>\n",
       "      <td>169 mins.</td>\n",
       "      <td>Action|Drama|History|War</td>\n",
       "    </tr>\n",
       "    <tr>\n",
       "      <th>tt0119488</th>\n",
       "      <td>L.A. Confidential (1997)</td>\n",
       "      <td>1997</td>\n",
       "      <td>8.4</td>\n",
       "      <td>187115</td>\n",
       "      <td>138 mins.</td>\n",
       "      <td>Crime|Drama|Mystery|Thriller</td>\n",
       "    </tr>\n",
       "    <tr>\n",
       "      <th>tt0119698</th>\n",
       "      <td>Princess Mononoke (1997)</td>\n",
       "      <td>1997</td>\n",
       "      <td>8.4</td>\n",
       "      <td>77859</td>\n",
       "      <td>134 mins.</td>\n",
       "      <td>Animation|Adventure|Fantasy</td>\n",
       "    </tr>\n",
       "    <tr>\n",
       "      <th>tt0120689</th>\n",
       "      <td>The Green Mile (1999)</td>\n",
       "      <td>1999</td>\n",
       "      <td>8.4</td>\n",
       "      <td>243660</td>\n",
       "      <td>189 mins.</td>\n",
       "      <td>Crime|Drama|Fantasy|Mystery</td>\n",
       "    </tr>\n",
       "    <tr>\n",
       "      <th>tt0128332</th>\n",
       "      <td>Innocence (1997)</td>\n",
       "      <td>1997</td>\n",
       "      <td>8.3</td>\n",
       "      <td>2402</td>\n",
       "      <td>110 mins.</td>\n",
       "      <td>Drama</td>\n",
       "    </tr>\n",
       "  </tbody>\n",
       "</table>\n",
       "</div>"
      ],
      "text/plain": [
       "                                Title  Year  Rating   Votes     Length  \\\n",
       "Id                                                                       \n",
       "tt0137523           Fight Club (1999)  1999     8.8  458173  139 mins.   \n",
       "tt0133093           The Matrix (1999)  1999     8.7  448114  136 mins.   \n",
       "tt0120586   American History X (1998)  1998     8.6  270082  119 mins.   \n",
       "tt0169547      American Beauty (1999)  1999     8.6  338332  122 mins.   \n",
       "tt0118799    Life Is Beautiful (1997)  1997     8.5  131578  116 mins.   \n",
       "tt0120815  Saving Private Ryan (1998)  1998     8.5  317912  169 mins.   \n",
       "tt0119488    L.A. Confidential (1997)  1997     8.4  187115  138 mins.   \n",
       "tt0119698    Princess Mononoke (1997)  1997     8.4   77859  134 mins.   \n",
       "tt0120689       The Green Mile (1999)  1999     8.4  243660  189 mins.   \n",
       "tt0128332            Innocence (1997)  1997     8.3    2402  110 mins.   \n",
       "\n",
       "                                 Genres  \n",
       "Id                                       \n",
       "tt0137523        Drama|Mystery|Thriller  \n",
       "tt0133093       Action|Adventure|Sci-Fi  \n",
       "tt0120586                   Crime|Drama  \n",
       "tt0169547                         Drama  \n",
       "tt0118799      Comedy|Drama|Romance|War  \n",
       "tt0120815      Action|Drama|History|War  \n",
       "tt0119488  Crime|Drama|Mystery|Thriller  \n",
       "tt0119698   Animation|Adventure|Fantasy  \n",
       "tt0120689   Crime|Drama|Fantasy|Mystery  \n",
       "tt0128332                         Drama  "
      ]
     },
     "execution_count": 24,
     "metadata": {},
     "output_type": "execute_result"
    }
   ],
   "source": [
    "data[(data['Year'] > 1995) & (data['Year'] < 2000)].sort_values(by='Rating', ascending=False).head(10)"
   ]
  },
  {
   "cell_type": "markdown",
   "id": "8216829f",
   "metadata": {},
   "source": [
    "# Grouping"
   ]
  },
  {
   "cell_type": "markdown",
   "id": "74b9f0d5",
   "metadata": {},
   "source": [
    "Pandas can also be used to group things together in ways that make the data more understandable. After grouping the data according to some criteria, pandas makes available functions that you can use on the grouping to get specific information on it, e.g min() to get the minimum value in the group or mean() to get the group average.\n",
    "\n",
    "We can also use pandas to group things together in ways that are useful to understand the data. So we can run the function: \n",
    "\n",
    "### data.groupby(data['year'])['rating'].mean()\n",
    "\n",
    "This will give us the average rating for films in each year.  You could also grab the maximum rating in each year with: \n",
    "\n",
    "### data.groupby(data['year'])['rating'].max()\n",
    "\n",
    "And the minimum would be: \n",
    "\n",
    "### data.groupby(data['year'])['rating'].min()"
   ]
  },
  {
   "cell_type": "code",
   "execution_count": 25,
   "id": "e3518748",
   "metadata": {},
   "outputs": [
    {
     "data": {
      "text/plain": [
       "Year\n",
       "1950    7.545161\n",
       "1951    7.478125\n",
       "1952    7.475676\n",
       "1953    7.106383\n",
       "1954    7.371795\n",
       "          ...   \n",
       "2007    6.303831\n",
       "2008    6.275260\n",
       "2009    6.287290\n",
       "2010    6.340635\n",
       "2011    6.357143\n",
       "Name: Rating, Length: 62, dtype: float64"
      ]
     },
     "execution_count": 25,
     "metadata": {},
     "output_type": "execute_result"
    }
   ],
   "source": [
    "data.groupby(data['Year'])['Rating'].mean()"
   ]
  },
  {
   "cell_type": "code",
   "execution_count": 26,
   "id": "67bd0a9c",
   "metadata": {},
   "outputs": [
    {
     "data": {
      "text/plain": [
       "Year\n",
       "1950    8.7\n",
       "1951    8.3\n",
       "1952    8.4\n",
       "1953    8.3\n",
       "1954    8.8\n",
       "       ... \n",
       "2007    8.3\n",
       "2008    8.9\n",
       "2009    8.4\n",
       "2010    8.9\n",
       "2011    8.6\n",
       "Name: Rating, Length: 62, dtype: float64"
      ]
     },
     "execution_count": 26,
     "metadata": {},
     "output_type": "execute_result"
    }
   ],
   "source": [
    "data.groupby(data['Year'])['Rating'].max()"
   ]
  },
  {
   "cell_type": "code",
   "execution_count": 27,
   "id": "54cad8f3",
   "metadata": {},
   "outputs": [
    {
     "data": {
      "text/plain": [
       "Year\n",
       "1950    6.3\n",
       "1951    6.2\n",
       "1952    6.3\n",
       "1953    2.9\n",
       "1954    6.1\n",
       "       ... \n",
       "2007    1.6\n",
       "2008    1.7\n",
       "2009    1.5\n",
       "2010    2.2\n",
       "2011    2.1\n",
       "Name: Rating, Length: 62, dtype: float64"
      ]
     },
     "execution_count": 27,
     "metadata": {},
     "output_type": "execute_result"
    }
   ],
   "source": [
    "data.groupby(data['Year'])['Rating'].min()"
   ]
  },
  {
   "cell_type": "code",
   "execution_count": null,
   "id": "a8fe5878",
   "metadata": {},
   "outputs": [],
   "source": []
  }
 ],
 "metadata": {
  "celltoolbar": "Raw Cell Format",
  "kernelspec": {
   "display_name": "Python 3 (ipykernel)",
   "language": "python",
   "name": "python3"
  },
  "language_info": {
   "codemirror_mode": {
    "name": "ipython",
    "version": 3
   },
   "file_extension": ".py",
   "mimetype": "text/x-python",
   "name": "python",
   "nbconvert_exporter": "python",
   "pygments_lexer": "ipython3",
   "version": "3.9.12"
  }
 },
 "nbformat": 4,
 "nbformat_minor": 5
}
